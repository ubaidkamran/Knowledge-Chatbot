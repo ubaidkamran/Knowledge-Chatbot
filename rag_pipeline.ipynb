{
 "cells": [
  {
   "metadata": {},
   "cell_type": "markdown",
   "source": "Install needed libraries",
   "id": "30fd542e6b9d6c2"
  },
  {
   "cell_type": "code",
   "id": "initial_id",
   "metadata": {
    "collapsed": true,
    "ExecuteTime": {
     "end_time": "2025-07-25T13:41:36.371947Z",
     "start_time": "2025-07-25T13:41:25.736878Z"
    }
   },
   "source": [
    "!pip install langchain-community faiss-cpu\n",
    "!pip install sentence-transformers\n",
    "!pip install streamlit\n",
    "!pip install langchain_huggingface"
   ],
   "outputs": [
    {
     "name": "stdout",
     "output_type": "stream",
     "text": [
      "Requirement already satisfied: langchain-community in c:\\users\\hp\\desktop\\aykay\\.venv\\lib\\site-packages (0.3.27)\n",
      "Requirement already satisfied: faiss-cpu in c:\\users\\hp\\desktop\\aykay\\.venv\\lib\\site-packages (1.11.0.post1)\n",
      "Requirement already satisfied: langchain-core<1.0.0,>=0.3.66 in c:\\users\\hp\\desktop\\aykay\\.venv\\lib\\site-packages (from langchain-community) (0.3.69)\n",
      "Requirement already satisfied: langchain<1.0.0,>=0.3.26 in c:\\users\\hp\\desktop\\aykay\\.venv\\lib\\site-packages (from langchain-community) (0.3.26)\n",
      "Requirement already satisfied: SQLAlchemy<3,>=1.4 in c:\\users\\hp\\desktop\\aykay\\.venv\\lib\\site-packages (from langchain-community) (2.0.41)\n",
      "Requirement already satisfied: requests<3,>=2 in c:\\users\\hp\\desktop\\aykay\\.venv\\lib\\site-packages (from langchain-community) (2.32.4)\n",
      "Requirement already satisfied: PyYAML>=5.3 in c:\\users\\hp\\desktop\\aykay\\.venv\\lib\\site-packages (from langchain-community) (6.0.2)\n",
      "Requirement already satisfied: aiohttp<4.0.0,>=3.8.3 in c:\\users\\hp\\desktop\\aykay\\.venv\\lib\\site-packages (from langchain-community) (3.12.14)\n",
      "Requirement already satisfied: tenacity!=8.4.0,<10,>=8.1.0 in c:\\users\\hp\\desktop\\aykay\\.venv\\lib\\site-packages (from langchain-community) (9.1.2)\n",
      "Requirement already satisfied: dataclasses-json<0.7,>=0.5.7 in c:\\users\\hp\\desktop\\aykay\\.venv\\lib\\site-packages (from langchain-community) (0.6.7)\n",
      "Requirement already satisfied: pydantic-settings<3.0.0,>=2.4.0 in c:\\users\\hp\\desktop\\aykay\\.venv\\lib\\site-packages (from langchain-community) (2.10.1)\n",
      "Requirement already satisfied: langsmith>=0.1.125 in c:\\users\\hp\\desktop\\aykay\\.venv\\lib\\site-packages (from langchain-community) (0.4.6)\n",
      "Requirement already satisfied: httpx-sse<1.0.0,>=0.4.0 in c:\\users\\hp\\desktop\\aykay\\.venv\\lib\\site-packages (from langchain-community) (0.4.1)\n",
      "Requirement already satisfied: numpy>=2.1.0 in c:\\users\\hp\\desktop\\aykay\\.venv\\lib\\site-packages (from langchain-community) (2.3.1)\n",
      "Requirement already satisfied: aiohappyeyeballs>=2.5.0 in c:\\users\\hp\\desktop\\aykay\\.venv\\lib\\site-packages (from aiohttp<4.0.0,>=3.8.3->langchain-community) (2.6.1)\n",
      "Requirement already satisfied: aiosignal>=1.4.0 in c:\\users\\hp\\desktop\\aykay\\.venv\\lib\\site-packages (from aiohttp<4.0.0,>=3.8.3->langchain-community) (1.4.0)\n",
      "Requirement already satisfied: attrs>=17.3.0 in c:\\users\\hp\\desktop\\aykay\\.venv\\lib\\site-packages (from aiohttp<4.0.0,>=3.8.3->langchain-community) (25.3.0)\n",
      "Requirement already satisfied: frozenlist>=1.1.1 in c:\\users\\hp\\desktop\\aykay\\.venv\\lib\\site-packages (from aiohttp<4.0.0,>=3.8.3->langchain-community) (1.7.0)\n",
      "Requirement already satisfied: multidict<7.0,>=4.5 in c:\\users\\hp\\desktop\\aykay\\.venv\\lib\\site-packages (from aiohttp<4.0.0,>=3.8.3->langchain-community) (6.6.3)\n",
      "Requirement already satisfied: propcache>=0.2.0 in c:\\users\\hp\\desktop\\aykay\\.venv\\lib\\site-packages (from aiohttp<4.0.0,>=3.8.3->langchain-community) (0.3.2)\n",
      "Requirement already satisfied: yarl<2.0,>=1.17.0 in c:\\users\\hp\\desktop\\aykay\\.venv\\lib\\site-packages (from aiohttp<4.0.0,>=3.8.3->langchain-community) (1.20.1)\n",
      "Requirement already satisfied: marshmallow<4.0.0,>=3.18.0 in c:\\users\\hp\\desktop\\aykay\\.venv\\lib\\site-packages (from dataclasses-json<0.7,>=0.5.7->langchain-community) (3.26.1)\n",
      "Requirement already satisfied: typing-inspect<1,>=0.4.0 in c:\\users\\hp\\desktop\\aykay\\.venv\\lib\\site-packages (from dataclasses-json<0.7,>=0.5.7->langchain-community) (0.9.0)\n",
      "Requirement already satisfied: langchain-text-splitters<1.0.0,>=0.3.8 in c:\\users\\hp\\desktop\\aykay\\.venv\\lib\\site-packages (from langchain<1.0.0,>=0.3.26->langchain-community) (0.3.8)\n",
      "Requirement already satisfied: pydantic<3.0.0,>=2.7.4 in c:\\users\\hp\\desktop\\aykay\\.venv\\lib\\site-packages (from langchain<1.0.0,>=0.3.26->langchain-community) (2.11.7)\n",
      "Requirement already satisfied: jsonpatch<2.0,>=1.33 in c:\\users\\hp\\desktop\\aykay\\.venv\\lib\\site-packages (from langchain-core<1.0.0,>=0.3.66->langchain-community) (1.33)\n",
      "Requirement already satisfied: typing-extensions>=4.7 in c:\\users\\hp\\desktop\\aykay\\.venv\\lib\\site-packages (from langchain-core<1.0.0,>=0.3.66->langchain-community) (4.14.1)\n",
      "Requirement already satisfied: packaging>=23.2 in c:\\users\\hp\\desktop\\aykay\\.venv\\lib\\site-packages (from langchain-core<1.0.0,>=0.3.66->langchain-community) (25.0)\n",
      "Requirement already satisfied: jsonpointer>=1.9 in c:\\users\\hp\\desktop\\aykay\\.venv\\lib\\site-packages (from jsonpatch<2.0,>=1.33->langchain-core<1.0.0,>=0.3.66->langchain-community) (3.0.0)\n",
      "Requirement already satisfied: annotated-types>=0.6.0 in c:\\users\\hp\\desktop\\aykay\\.venv\\lib\\site-packages (from pydantic<3.0.0,>=2.7.4->langchain<1.0.0,>=0.3.26->langchain-community) (0.7.0)\n",
      "Requirement already satisfied: pydantic-core==2.33.2 in c:\\users\\hp\\desktop\\aykay\\.venv\\lib\\site-packages (from pydantic<3.0.0,>=2.7.4->langchain<1.0.0,>=0.3.26->langchain-community) (2.33.2)\n",
      "Requirement already satisfied: typing-inspection>=0.4.0 in c:\\users\\hp\\desktop\\aykay\\.venv\\lib\\site-packages (from pydantic<3.0.0,>=2.7.4->langchain<1.0.0,>=0.3.26->langchain-community) (0.4.1)\n",
      "Requirement already satisfied: python-dotenv>=0.21.0 in c:\\users\\hp\\desktop\\aykay\\.venv\\lib\\site-packages (from pydantic-settings<3.0.0,>=2.4.0->langchain-community) (1.1.1)\n",
      "Requirement already satisfied: charset_normalizer<4,>=2 in c:\\users\\hp\\desktop\\aykay\\.venv\\lib\\site-packages (from requests<3,>=2->langchain-community) (3.4.2)\n",
      "Requirement already satisfied: idna<4,>=2.5 in c:\\users\\hp\\desktop\\aykay\\.venv\\lib\\site-packages (from requests<3,>=2->langchain-community) (3.10)\n",
      "Requirement already satisfied: urllib3<3,>=1.21.1 in c:\\users\\hp\\desktop\\aykay\\.venv\\lib\\site-packages (from requests<3,>=2->langchain-community) (2.5.0)\n",
      "Requirement already satisfied: certifi>=2017.4.17 in c:\\users\\hp\\desktop\\aykay\\.venv\\lib\\site-packages (from requests<3,>=2->langchain-community) (2025.7.14)\n",
      "Requirement already satisfied: greenlet>=1 in c:\\users\\hp\\desktop\\aykay\\.venv\\lib\\site-packages (from SQLAlchemy<3,>=1.4->langchain-community) (3.2.3)\n",
      "Requirement already satisfied: mypy-extensions>=0.3.0 in c:\\users\\hp\\desktop\\aykay\\.venv\\lib\\site-packages (from typing-inspect<1,>=0.4.0->dataclasses-json<0.7,>=0.5.7->langchain-community) (1.1.0)\n",
      "Requirement already satisfied: httpx<1,>=0.23.0 in c:\\users\\hp\\desktop\\aykay\\.venv\\lib\\site-packages (from langsmith>=0.1.125->langchain-community) (0.28.1)\n",
      "Requirement already satisfied: orjson<4.0.0,>=3.9.14 in c:\\users\\hp\\desktop\\aykay\\.venv\\lib\\site-packages (from langsmith>=0.1.125->langchain-community) (3.11.0)\n",
      "Requirement already satisfied: requests-toolbelt<2.0.0,>=1.0.0 in c:\\users\\hp\\desktop\\aykay\\.venv\\lib\\site-packages (from langsmith>=0.1.125->langchain-community) (1.0.0)\n",
      "Requirement already satisfied: zstandard<0.24.0,>=0.23.0 in c:\\users\\hp\\desktop\\aykay\\.venv\\lib\\site-packages (from langsmith>=0.1.125->langchain-community) (0.23.0)\n",
      "Requirement already satisfied: anyio in c:\\users\\hp\\desktop\\aykay\\.venv\\lib\\site-packages (from httpx<1,>=0.23.0->langsmith>=0.1.125->langchain-community) (4.9.0)\n",
      "Requirement already satisfied: httpcore==1.* in c:\\users\\hp\\desktop\\aykay\\.venv\\lib\\site-packages (from httpx<1,>=0.23.0->langsmith>=0.1.125->langchain-community) (1.0.9)\n",
      "Requirement already satisfied: h11>=0.16 in c:\\users\\hp\\desktop\\aykay\\.venv\\lib\\site-packages (from httpcore==1.*->httpx<1,>=0.23.0->langsmith>=0.1.125->langchain-community) (0.16.0)\n",
      "Requirement already satisfied: sniffio>=1.1 in c:\\users\\hp\\desktop\\aykay\\.venv\\lib\\site-packages (from anyio->httpx<1,>=0.23.0->langsmith>=0.1.125->langchain-community) (1.3.1)\n",
      "Requirement already satisfied: sentence-transformers in c:\\users\\hp\\desktop\\aykay\\.venv\\lib\\site-packages (5.0.0)\n",
      "Requirement already satisfied: transformers<5.0.0,>=4.41.0 in c:\\users\\hp\\desktop\\aykay\\.venv\\lib\\site-packages (from sentence-transformers) (4.53.2)\n",
      "Requirement already satisfied: tqdm in c:\\users\\hp\\desktop\\aykay\\.venv\\lib\\site-packages (from sentence-transformers) (4.67.1)\n",
      "Requirement already satisfied: torch>=1.11.0 in c:\\users\\hp\\desktop\\aykay\\.venv\\lib\\site-packages (from sentence-transformers) (2.7.1)\n",
      "Requirement already satisfied: scikit-learn in c:\\users\\hp\\desktop\\aykay\\.venv\\lib\\site-packages (from sentence-transformers) (1.7.0)\n",
      "Requirement already satisfied: scipy in c:\\users\\hp\\desktop\\aykay\\.venv\\lib\\site-packages (from sentence-transformers) (1.16.0)\n",
      "Requirement already satisfied: huggingface-hub>=0.20.0 in c:\\users\\hp\\desktop\\aykay\\.venv\\lib\\site-packages (from sentence-transformers) (0.33.4)\n",
      "Requirement already satisfied: Pillow in c:\\users\\hp\\desktop\\aykay\\.venv\\lib\\site-packages (from sentence-transformers) (11.3.0)\n",
      "Requirement already satisfied: typing_extensions>=4.5.0 in c:\\users\\hp\\desktop\\aykay\\.venv\\lib\\site-packages (from sentence-transformers) (4.14.1)\n",
      "Requirement already satisfied: filelock in c:\\users\\hp\\desktop\\aykay\\.venv\\lib\\site-packages (from transformers<5.0.0,>=4.41.0->sentence-transformers) (3.18.0)\n",
      "Requirement already satisfied: numpy>=1.17 in c:\\users\\hp\\desktop\\aykay\\.venv\\lib\\site-packages (from transformers<5.0.0,>=4.41.0->sentence-transformers) (2.3.1)\n",
      "Requirement already satisfied: packaging>=20.0 in c:\\users\\hp\\desktop\\aykay\\.venv\\lib\\site-packages (from transformers<5.0.0,>=4.41.0->sentence-transformers) (25.0)\n",
      "Requirement already satisfied: pyyaml>=5.1 in c:\\users\\hp\\desktop\\aykay\\.venv\\lib\\site-packages (from transformers<5.0.0,>=4.41.0->sentence-transformers) (6.0.2)\n",
      "Requirement already satisfied: regex!=2019.12.17 in c:\\users\\hp\\desktop\\aykay\\.venv\\lib\\site-packages (from transformers<5.0.0,>=4.41.0->sentence-transformers) (2024.11.6)\n",
      "Requirement already satisfied: requests in c:\\users\\hp\\desktop\\aykay\\.venv\\lib\\site-packages (from transformers<5.0.0,>=4.41.0->sentence-transformers) (2.32.4)\n",
      "Requirement already satisfied: tokenizers<0.22,>=0.21 in c:\\users\\hp\\desktop\\aykay\\.venv\\lib\\site-packages (from transformers<5.0.0,>=4.41.0->sentence-transformers) (0.21.2)\n",
      "Requirement already satisfied: safetensors>=0.4.3 in c:\\users\\hp\\desktop\\aykay\\.venv\\lib\\site-packages (from transformers<5.0.0,>=4.41.0->sentence-transformers) (0.5.3)\n",
      "Requirement already satisfied: fsspec>=2023.5.0 in c:\\users\\hp\\desktop\\aykay\\.venv\\lib\\site-packages (from huggingface-hub>=0.20.0->sentence-transformers) (2025.5.1)\n",
      "Requirement already satisfied: sympy>=1.13.3 in c:\\users\\hp\\desktop\\aykay\\.venv\\lib\\site-packages (from torch>=1.11.0->sentence-transformers) (1.14.0)\n",
      "Requirement already satisfied: networkx in c:\\users\\hp\\desktop\\aykay\\.venv\\lib\\site-packages (from torch>=1.11.0->sentence-transformers) (3.5)\n",
      "Requirement already satisfied: jinja2 in c:\\users\\hp\\desktop\\aykay\\.venv\\lib\\site-packages (from torch>=1.11.0->sentence-transformers) (3.1.6)\n",
      "Requirement already satisfied: setuptools in c:\\users\\hp\\desktop\\aykay\\.venv\\lib\\site-packages (from torch>=1.11.0->sentence-transformers) (80.9.0)\n",
      "Requirement already satisfied: mpmath<1.4,>=1.1.0 in c:\\users\\hp\\desktop\\aykay\\.venv\\lib\\site-packages (from sympy>=1.13.3->torch>=1.11.0->sentence-transformers) (1.3.0)\n",
      "Requirement already satisfied: colorama in c:\\users\\hp\\desktop\\aykay\\.venv\\lib\\site-packages (from tqdm->sentence-transformers) (0.4.6)\n",
      "Requirement already satisfied: MarkupSafe>=2.0 in c:\\users\\hp\\desktop\\aykay\\.venv\\lib\\site-packages (from jinja2->torch>=1.11.0->sentence-transformers) (3.0.2)\n",
      "Requirement already satisfied: charset_normalizer<4,>=2 in c:\\users\\hp\\desktop\\aykay\\.venv\\lib\\site-packages (from requests->transformers<5.0.0,>=4.41.0->sentence-transformers) (3.4.2)\n",
      "Requirement already satisfied: idna<4,>=2.5 in c:\\users\\hp\\desktop\\aykay\\.venv\\lib\\site-packages (from requests->transformers<5.0.0,>=4.41.0->sentence-transformers) (3.10)\n",
      "Requirement already satisfied: urllib3<3,>=1.21.1 in c:\\users\\hp\\desktop\\aykay\\.venv\\lib\\site-packages (from requests->transformers<5.0.0,>=4.41.0->sentence-transformers) (2.5.0)\n",
      "Requirement already satisfied: certifi>=2017.4.17 in c:\\users\\hp\\desktop\\aykay\\.venv\\lib\\site-packages (from requests->transformers<5.0.0,>=4.41.0->sentence-transformers) (2025.7.14)\n",
      "Requirement already satisfied: joblib>=1.2.0 in c:\\users\\hp\\desktop\\aykay\\.venv\\lib\\site-packages (from scikit-learn->sentence-transformers) (1.5.1)\n",
      "Requirement already satisfied: threadpoolctl>=3.1.0 in c:\\users\\hp\\desktop\\aykay\\.venv\\lib\\site-packages (from scikit-learn->sentence-transformers) (3.6.0)\n",
      "Requirement already satisfied: streamlit in c:\\users\\hp\\desktop\\aykay\\.venv\\lib\\site-packages (1.46.1)\n",
      "Requirement already satisfied: altair<6,>=4.0 in c:\\users\\hp\\desktop\\aykay\\.venv\\lib\\site-packages (from streamlit) (5.5.0)\n",
      "Requirement already satisfied: blinker<2,>=1.5.0 in c:\\users\\hp\\desktop\\aykay\\.venv\\lib\\site-packages (from streamlit) (1.9.0)\n",
      "Requirement already satisfied: cachetools<7,>=4.0 in c:\\users\\hp\\desktop\\aykay\\.venv\\lib\\site-packages (from streamlit) (6.1.0)\n",
      "Requirement already satisfied: click<9,>=7.0 in c:\\users\\hp\\desktop\\aykay\\.venv\\lib\\site-packages (from streamlit) (8.2.1)\n",
      "Requirement already satisfied: numpy<3,>=1.23 in c:\\users\\hp\\desktop\\aykay\\.venv\\lib\\site-packages (from streamlit) (2.3.1)\n",
      "Requirement already satisfied: packaging<26,>=20 in c:\\users\\hp\\desktop\\aykay\\.venv\\lib\\site-packages (from streamlit) (25.0)\n",
      "Requirement already satisfied: pandas<3,>=1.4.0 in c:\\users\\hp\\desktop\\aykay\\.venv\\lib\\site-packages (from streamlit) (2.3.1)\n",
      "Requirement already satisfied: pillow<12,>=7.1.0 in c:\\users\\hp\\desktop\\aykay\\.venv\\lib\\site-packages (from streamlit) (11.3.0)\n",
      "Requirement already satisfied: protobuf<7,>=3.20 in c:\\users\\hp\\desktop\\aykay\\.venv\\lib\\site-packages (from streamlit) (6.31.1)\n",
      "Requirement already satisfied: pyarrow>=7.0 in c:\\users\\hp\\desktop\\aykay\\.venv\\lib\\site-packages (from streamlit) (20.0.0)\n",
      "Requirement already satisfied: requests<3,>=2.27 in c:\\users\\hp\\desktop\\aykay\\.venv\\lib\\site-packages (from streamlit) (2.32.4)\n",
      "Requirement already satisfied: tenacity<10,>=8.1.0 in c:\\users\\hp\\desktop\\aykay\\.venv\\lib\\site-packages (from streamlit) (9.1.2)\n",
      "Requirement already satisfied: toml<2,>=0.10.1 in c:\\users\\hp\\desktop\\aykay\\.venv\\lib\\site-packages (from streamlit) (0.10.2)\n",
      "Requirement already satisfied: typing-extensions<5,>=4.4.0 in c:\\users\\hp\\desktop\\aykay\\.venv\\lib\\site-packages (from streamlit) (4.14.1)\n",
      "Requirement already satisfied: watchdog<7,>=2.1.5 in c:\\users\\hp\\desktop\\aykay\\.venv\\lib\\site-packages (from streamlit) (6.0.0)\n",
      "Requirement already satisfied: gitpython!=3.1.19,<4,>=3.0.7 in c:\\users\\hp\\desktop\\aykay\\.venv\\lib\\site-packages (from streamlit) (3.1.44)\n",
      "Requirement already satisfied: pydeck<1,>=0.8.0b4 in c:\\users\\hp\\desktop\\aykay\\.venv\\lib\\site-packages (from streamlit) (0.9.1)\n",
      "Requirement already satisfied: tornado!=6.5.0,<7,>=6.0.3 in c:\\users\\hp\\desktop\\aykay\\.venv\\lib\\site-packages (from streamlit) (6.5.1)\n",
      "Requirement already satisfied: jinja2 in c:\\users\\hp\\desktop\\aykay\\.venv\\lib\\site-packages (from altair<6,>=4.0->streamlit) (3.1.6)\n",
      "Requirement already satisfied: jsonschema>=3.0 in c:\\users\\hp\\desktop\\aykay\\.venv\\lib\\site-packages (from altair<6,>=4.0->streamlit) (4.24.0)\n",
      "Requirement already satisfied: narwhals>=1.14.2 in c:\\users\\hp\\desktop\\aykay\\.venv\\lib\\site-packages (from altair<6,>=4.0->streamlit) (1.47.0)\n",
      "Requirement already satisfied: colorama in c:\\users\\hp\\desktop\\aykay\\.venv\\lib\\site-packages (from click<9,>=7.0->streamlit) (0.4.6)\n",
      "Requirement already satisfied: gitdb<5,>=4.0.1 in c:\\users\\hp\\desktop\\aykay\\.venv\\lib\\site-packages (from gitpython!=3.1.19,<4,>=3.0.7->streamlit) (4.0.12)\n",
      "Requirement already satisfied: smmap<6,>=3.0.1 in c:\\users\\hp\\desktop\\aykay\\.venv\\lib\\site-packages (from gitdb<5,>=4.0.1->gitpython!=3.1.19,<4,>=3.0.7->streamlit) (5.0.2)\n",
      "Requirement already satisfied: python-dateutil>=2.8.2 in c:\\users\\hp\\desktop\\aykay\\.venv\\lib\\site-packages (from pandas<3,>=1.4.0->streamlit) (2.9.0.post0)\n",
      "Requirement already satisfied: pytz>=2020.1 in c:\\users\\hp\\desktop\\aykay\\.venv\\lib\\site-packages (from pandas<3,>=1.4.0->streamlit) (2025.2)\n",
      "Requirement already satisfied: tzdata>=2022.7 in c:\\users\\hp\\desktop\\aykay\\.venv\\lib\\site-packages (from pandas<3,>=1.4.0->streamlit) (2025.2)\n",
      "Requirement already satisfied: charset_normalizer<4,>=2 in c:\\users\\hp\\desktop\\aykay\\.venv\\lib\\site-packages (from requests<3,>=2.27->streamlit) (3.4.2)\n",
      "Requirement already satisfied: idna<4,>=2.5 in c:\\users\\hp\\desktop\\aykay\\.venv\\lib\\site-packages (from requests<3,>=2.27->streamlit) (3.10)\n",
      "Requirement already satisfied: urllib3<3,>=1.21.1 in c:\\users\\hp\\desktop\\aykay\\.venv\\lib\\site-packages (from requests<3,>=2.27->streamlit) (2.5.0)\n",
      "Requirement already satisfied: certifi>=2017.4.17 in c:\\users\\hp\\desktop\\aykay\\.venv\\lib\\site-packages (from requests<3,>=2.27->streamlit) (2025.7.14)\n",
      "Requirement already satisfied: MarkupSafe>=2.0 in c:\\users\\hp\\desktop\\aykay\\.venv\\lib\\site-packages (from jinja2->altair<6,>=4.0->streamlit) (3.0.2)\n",
      "Requirement already satisfied: attrs>=22.2.0 in c:\\users\\hp\\desktop\\aykay\\.venv\\lib\\site-packages (from jsonschema>=3.0->altair<6,>=4.0->streamlit) (25.3.0)\n",
      "Requirement already satisfied: jsonschema-specifications>=2023.03.6 in c:\\users\\hp\\desktop\\aykay\\.venv\\lib\\site-packages (from jsonschema>=3.0->altair<6,>=4.0->streamlit) (2025.4.1)\n",
      "Requirement already satisfied: referencing>=0.28.4 in c:\\users\\hp\\desktop\\aykay\\.venv\\lib\\site-packages (from jsonschema>=3.0->altair<6,>=4.0->streamlit) (0.36.2)\n",
      "Requirement already satisfied: rpds-py>=0.7.1 in c:\\users\\hp\\desktop\\aykay\\.venv\\lib\\site-packages (from jsonschema>=3.0->altair<6,>=4.0->streamlit) (0.26.0)\n",
      "Requirement already satisfied: six>=1.5 in c:\\users\\hp\\desktop\\aykay\\.venv\\lib\\site-packages (from python-dateutil>=2.8.2->pandas<3,>=1.4.0->streamlit) (1.17.0)\n",
      "Requirement already satisfied: langchain_huggingface in c:\\users\\hp\\desktop\\aykay\\.venv\\lib\\site-packages (0.3.0)\n",
      "Requirement already satisfied: langchain-core<1.0.0,>=0.3.65 in c:\\users\\hp\\desktop\\aykay\\.venv\\lib\\site-packages (from langchain_huggingface) (0.3.69)\n",
      "Requirement already satisfied: tokenizers>=0.19.1 in c:\\users\\hp\\desktop\\aykay\\.venv\\lib\\site-packages (from langchain_huggingface) (0.21.2)\n",
      "Requirement already satisfied: huggingface-hub>=0.30.2 in c:\\users\\hp\\desktop\\aykay\\.venv\\lib\\site-packages (from langchain_huggingface) (0.33.4)\n",
      "Requirement already satisfied: langsmith>=0.3.45 in c:\\users\\hp\\desktop\\aykay\\.venv\\lib\\site-packages (from langchain-core<1.0.0,>=0.3.65->langchain_huggingface) (0.4.6)\n",
      "Requirement already satisfied: tenacity!=8.4.0,<10.0.0,>=8.1.0 in c:\\users\\hp\\desktop\\aykay\\.venv\\lib\\site-packages (from langchain-core<1.0.0,>=0.3.65->langchain_huggingface) (9.1.2)\n",
      "Requirement already satisfied: jsonpatch<2.0,>=1.33 in c:\\users\\hp\\desktop\\aykay\\.venv\\lib\\site-packages (from langchain-core<1.0.0,>=0.3.65->langchain_huggingface) (1.33)\n",
      "Requirement already satisfied: PyYAML>=5.3 in c:\\users\\hp\\desktop\\aykay\\.venv\\lib\\site-packages (from langchain-core<1.0.0,>=0.3.65->langchain_huggingface) (6.0.2)\n",
      "Requirement already satisfied: typing-extensions>=4.7 in c:\\users\\hp\\desktop\\aykay\\.venv\\lib\\site-packages (from langchain-core<1.0.0,>=0.3.65->langchain_huggingface) (4.14.1)\n",
      "Requirement already satisfied: packaging>=23.2 in c:\\users\\hp\\desktop\\aykay\\.venv\\lib\\site-packages (from langchain-core<1.0.0,>=0.3.65->langchain_huggingface) (25.0)\n",
      "Requirement already satisfied: pydantic>=2.7.4 in c:\\users\\hp\\desktop\\aykay\\.venv\\lib\\site-packages (from langchain-core<1.0.0,>=0.3.65->langchain_huggingface) (2.11.7)\n",
      "Requirement already satisfied: jsonpointer>=1.9 in c:\\users\\hp\\desktop\\aykay\\.venv\\lib\\site-packages (from jsonpatch<2.0,>=1.33->langchain-core<1.0.0,>=0.3.65->langchain_huggingface) (3.0.0)\n",
      "Requirement already satisfied: filelock in c:\\users\\hp\\desktop\\aykay\\.venv\\lib\\site-packages (from huggingface-hub>=0.30.2->langchain_huggingface) (3.18.0)\n",
      "Requirement already satisfied: fsspec>=2023.5.0 in c:\\users\\hp\\desktop\\aykay\\.venv\\lib\\site-packages (from huggingface-hub>=0.30.2->langchain_huggingface) (2025.5.1)\n",
      "Requirement already satisfied: requests in c:\\users\\hp\\desktop\\aykay\\.venv\\lib\\site-packages (from huggingface-hub>=0.30.2->langchain_huggingface) (2.32.4)\n",
      "Requirement already satisfied: tqdm>=4.42.1 in c:\\users\\hp\\desktop\\aykay\\.venv\\lib\\site-packages (from huggingface-hub>=0.30.2->langchain_huggingface) (4.67.1)\n",
      "Requirement already satisfied: httpx<1,>=0.23.0 in c:\\users\\hp\\desktop\\aykay\\.venv\\lib\\site-packages (from langsmith>=0.3.45->langchain-core<1.0.0,>=0.3.65->langchain_huggingface) (0.28.1)\n",
      "Requirement already satisfied: orjson<4.0.0,>=3.9.14 in c:\\users\\hp\\desktop\\aykay\\.venv\\lib\\site-packages (from langsmith>=0.3.45->langchain-core<1.0.0,>=0.3.65->langchain_huggingface) (3.11.0)\n",
      "Requirement already satisfied: requests-toolbelt<2.0.0,>=1.0.0 in c:\\users\\hp\\desktop\\aykay\\.venv\\lib\\site-packages (from langsmith>=0.3.45->langchain-core<1.0.0,>=0.3.65->langchain_huggingface) (1.0.0)\n",
      "Requirement already satisfied: zstandard<0.24.0,>=0.23.0 in c:\\users\\hp\\desktop\\aykay\\.venv\\lib\\site-packages (from langsmith>=0.3.45->langchain-core<1.0.0,>=0.3.65->langchain_huggingface) (0.23.0)\n",
      "Requirement already satisfied: anyio in c:\\users\\hp\\desktop\\aykay\\.venv\\lib\\site-packages (from httpx<1,>=0.23.0->langsmith>=0.3.45->langchain-core<1.0.0,>=0.3.65->langchain_huggingface) (4.9.0)\n",
      "Requirement already satisfied: certifi in c:\\users\\hp\\desktop\\aykay\\.venv\\lib\\site-packages (from httpx<1,>=0.23.0->langsmith>=0.3.45->langchain-core<1.0.0,>=0.3.65->langchain_huggingface) (2025.7.14)\n",
      "Requirement already satisfied: httpcore==1.* in c:\\users\\hp\\desktop\\aykay\\.venv\\lib\\site-packages (from httpx<1,>=0.23.0->langsmith>=0.3.45->langchain-core<1.0.0,>=0.3.65->langchain_huggingface) (1.0.9)\n",
      "Requirement already satisfied: idna in c:\\users\\hp\\desktop\\aykay\\.venv\\lib\\site-packages (from httpx<1,>=0.23.0->langsmith>=0.3.45->langchain-core<1.0.0,>=0.3.65->langchain_huggingface) (3.10)\n",
      "Requirement already satisfied: h11>=0.16 in c:\\users\\hp\\desktop\\aykay\\.venv\\lib\\site-packages (from httpcore==1.*->httpx<1,>=0.23.0->langsmith>=0.3.45->langchain-core<1.0.0,>=0.3.65->langchain_huggingface) (0.16.0)\n",
      "Requirement already satisfied: annotated-types>=0.6.0 in c:\\users\\hp\\desktop\\aykay\\.venv\\lib\\site-packages (from pydantic>=2.7.4->langchain-core<1.0.0,>=0.3.65->langchain_huggingface) (0.7.0)\n",
      "Requirement already satisfied: pydantic-core==2.33.2 in c:\\users\\hp\\desktop\\aykay\\.venv\\lib\\site-packages (from pydantic>=2.7.4->langchain-core<1.0.0,>=0.3.65->langchain_huggingface) (2.33.2)\n",
      "Requirement already satisfied: typing-inspection>=0.4.0 in c:\\users\\hp\\desktop\\aykay\\.venv\\lib\\site-packages (from pydantic>=2.7.4->langchain-core<1.0.0,>=0.3.65->langchain_huggingface) (0.4.1)\n",
      "Requirement already satisfied: charset_normalizer<4,>=2 in c:\\users\\hp\\desktop\\aykay\\.venv\\lib\\site-packages (from requests->huggingface-hub>=0.30.2->langchain_huggingface) (3.4.2)\n",
      "Requirement already satisfied: urllib3<3,>=1.21.1 in c:\\users\\hp\\desktop\\aykay\\.venv\\lib\\site-packages (from requests->huggingface-hub>=0.30.2->langchain_huggingface) (2.5.0)\n",
      "Requirement already satisfied: colorama in c:\\users\\hp\\desktop\\aykay\\.venv\\lib\\site-packages (from tqdm>=4.42.1->huggingface-hub>=0.30.2->langchain_huggingface) (0.4.6)\n",
      "Requirement already satisfied: sniffio>=1.1 in c:\\users\\hp\\desktop\\aykay\\.venv\\lib\\site-packages (from anyio->httpx<1,>=0.23.0->langsmith>=0.3.45->langchain-core<1.0.0,>=0.3.65->langchain_huggingface) (1.3.1)\n"
     ]
    }
   ],
   "execution_count": 1
  },
  {
   "metadata": {},
   "cell_type": "markdown",
   "source": "Imports needed modules",
   "id": "c09e8b50d05a256b"
  },
  {
   "metadata": {
    "ExecuteTime": {
     "end_time": "2025-07-25T13:42:46.859704Z",
     "start_time": "2025-07-25T13:41:36.416550Z"
    }
   },
   "cell_type": "code",
   "source": [
    "from langchain_huggingface import HuggingFaceEmbeddings\n",
    "import re\n",
    "import faiss\n",
    "from langchain_community.docstore.in_memory import InMemoryDocstore\n",
    "from langchain_community.vectorstores import FAISS\n",
    "from uuid import uuid4\n",
    "from langchain_core.documents import Document\n",
    "import streamlit as st\n",
    "\n",
    "from transformers import AutoModelForCausalLM, AutoTokenizer\n",
    "from langchain_community.llms import HuggingFacePipeline\n",
    "from transformers import pipeline\n",
    "from langchain.prompts import PromptTemplate\n",
    "from langchain.chains import RetrievalQA"
   ],
   "id": "bf5e70cef862ac90",
   "outputs": [],
   "execution_count": 2
  },
  {
   "metadata": {},
   "cell_type": "markdown",
   "source": "Generate model",
   "id": "964bd226a41164ac"
  },
  {
   "metadata": {
    "ExecuteTime": {
     "end_time": "2025-07-25T13:42:54.320374Z",
     "start_time": "2025-07-25T13:42:47.728668Z"
    }
   },
   "cell_type": "code",
   "source": [
    "model_name = \"sentence-transformers/all-MiniLM-L6-v2\"\n",
    "embeddings = HuggingFaceEmbeddings(model_name=model_name)"
   ],
   "id": "d4563e82a11e2895",
   "outputs": [],
   "execution_count": 3
  },
  {
   "metadata": {},
   "cell_type": "markdown",
   "source": "Generate Faiss Vector store",
   "id": "68babd4f440bf75a"
  },
  {
   "metadata": {
    "ExecuteTime": {
     "end_time": "2025-07-25T13:42:54.461836Z",
     "start_time": "2025-07-25T13:42:54.343784Z"
    }
   },
   "cell_type": "code",
   "source": [
    "index = faiss.IndexFlatL2(len(embeddings.embed_query(\"hello world\")))\n",
    "\n",
    "vector_store = FAISS(\n",
    "    embedding_function=embeddings,\n",
    "    index=index,\n",
    "    docstore=InMemoryDocstore(),\n",
    "    index_to_docstore_id={},\n",
    ")"
   ],
   "id": "9ba5de1ac00edb21",
   "outputs": [],
   "execution_count": 4
  },
  {
   "metadata": {},
   "cell_type": "markdown",
   "source": "Opens the text file and cleans up the data",
   "id": "249eca4351605c9e"
  },
  {
   "metadata": {
    "ExecuteTime": {
     "end_time": "2025-07-25T13:42:54.501855Z",
     "start_time": "2025-07-25T13:42:54.481811Z"
    }
   },
   "cell_type": "code",
   "source": [
    "with open(\"blogs/blog 2.txt\", \"r\", encoding=\"utf-8\") as file:\n",
    "    text = file.read()\n",
    "\n",
    "sentences=[s.strip() + '.' for s in re.split(r'\\.\\s*', text) if s]\n",
    "\n",
    "chunks = []\n",
    "current_chunk = []\n",
    "current_word_count = 0\n",
    "for sentence in sentences:\n",
    "       word_count = len(sentence.split())\n",
    "       if current_word_count + word_count <= 200:\n",
    "           current_chunk.append(sentence)\n",
    "           current_word_count += word_count\n",
    "       else:\n",
    "           # Commit current chunk and start a new one\n",
    "           chunks.append(' '.join(current_chunk))\n",
    "           current_chunk = [sentence]\n",
    "           current_word_count = word_count\n",
    "\n",
    "if current_chunk:\n",
    "    chunks.append(' '.join(current_chunk))"
   ],
   "id": "d25d0199fefd3f43",
   "outputs": [],
   "execution_count": 5
  },
  {
   "metadata": {},
   "cell_type": "markdown",
   "source": "Displays cleaned up data for testing",
   "id": "a0dcd4b44a0564ba"
  },
  {
   "metadata": {
    "ExecuteTime": {
     "end_time": "2025-07-25T13:42:54.533279Z",
     "start_time": "2025-07-25T13:42:54.526028Z"
    }
   },
   "cell_type": "code",
   "source": [
    "for i, chunk in enumerate(chunks, 1):\n",
    "    print(f\"--- Chunk {i} ---\\n{chunk}\\n\")"
   ],
   "id": "721fe6da6ca8fcdf",
   "outputs": [
    {
     "name": "stdout",
     "output_type": "stream",
     "text": [
      "--- Chunk 1 ---\n",
      "Estimates by local consultancy DesRosiers Automotive have the Canadian new light vehicle market up 5. 3% year-on-year in June to 178,000 units. However the year-ago comparison base was particularly low and the SAAR comes in at 1. 81 million, the lowest level so far this year. Q2 sales are up 6. 5% to 532,000 and H1 volumes advance 4. 3% to 958,000. All data below is for Q2. General Motors (+8%) remains the most popular OEM but Hyundai-Kia (+18. 5%) leapfrogs Toyota Motor (+8. 6%) and Ford Motor (-3. 5%) to place #2, a ranking it now also holds over H1 vs. #4 over the Full Year 2024. Honda Canada (+31. 8%) sports the biggest gain in market, with Nissan Group/Mitsubishi (+16. 9%) also in great shape. Stellantis (-9. 7%) underperforms. Looking at brands, Ford (-3. 6%) stays win the lead but Toyota (+6. 5%) catches up and is less than 1,200 sales below over Q2. Hyundai (+13. 8%) passes Chevrolet (+12. 6%) to #3 while Honda (+31. 6%) stays at #5. Kia (+25. 5%), Mazda (+19. 9%) and Nissan (+19. 5%) also post fantastic gains. Further down, Chrysler (+42. 1%), Acura (+33. 7%), Buick (+26. 1%), Lexus (+23.\n",
      "\n",
      "--- Chunk 2 ---\n",
      "5%), Subaru (+18. 7%), Mercedes (+17. 4%) and Mitsubishi (+15. 2%) all beat the market. At the other end of the scale, Ram (-19%) falls heavily but the worst performance is delivered by Tesla estimated at -74. 5% to just 4,500 sales over the period. Model-wise, the Ford F-Series (+2. 5%) slowly progresses YoY to hold onto the pole position by a large margin (over 8,000 sales) over the #2, a solid Toyota RAV4 (+11. 6%). The next three vehicles fit in less than 100 sales: the GMC Sierra (+5. 9%) stays in third place above the Honda CR-V (+25. 4%) up to #4 and the Chevrolet Silverado (+20. 7%) down to #5 despite an excellent score. The Ram Pickup (-23. 9%) is in complete freefall and now ranks #6. Outstanding performances by the Nissan Kicks (+69. 9%) up to #7 and the Honda Civic (+30. 7%) at #10 and best-selling passenger car as usual. It’s another very dynamic month for new vehicle sales in Colombia at +23. 5% year-on-year to 18,000 units. This way, the H1 2025 volume is up 23. 2% to 105,033. Renault (+53.\n",
      "\n",
      "--- Chunk 3 ---\n",
      "6%) beats the market to reclaim the top spot of the brands ranking with 14. 4% share vs. 13. 5% so far this year where it is up 35. 9%. Kia (+25. 1%) stays in 2nd place ahead of Toyota (+20. 6%) down two ranks on last month to #3. Chevrolet (+24. 8%) is back up to #4 ahead of Nissan (+35. 9%) up two spots to #5. BYD (+140. 6%) and Hyundai (+127. 5%) deliver the biggest gains in the Top 10, with GWM (+1966. 7%), Chery (+491. 7%), Cupra (+400%), MG (+213. 3%) and Foton (+100. 4%) making themselves noticed below. Over in the models charts, the Toyota Corolla Cross (+65. 6%) surges YoY to repeat at #1 and snaps the H1 pole position in the process (it was #4 at end-May). The Renault Duster (+53. 6%) is up three spots to #2, overtaking the Kia K3 (+80. 5%) down to #3. The Chevrolet Onix (+162. 1%) is back in shape and up four ranks to #4 while the Kia Picanto (+23. 3%) is up 19 to #5, the Toyota Prado (+7. 1%) up 10 to #6 and the Renault Kwid (+28. 6%) up 12 to #7.\n",
      "\n",
      "--- Chunk 4 ---\n",
      "The new Renault Kardian and BYD Yuan Up follow and the Hyundai Kona (+668. 9%) rounds out the Top 10 in spectacular fashion.\n",
      "\n"
     ]
    }
   ],
   "execution_count": 6
  },
  {
   "metadata": {},
   "cell_type": "markdown",
   "source": "Converts the list into a Dictionary",
   "id": "5d5c70f718ddc053"
  },
  {
   "metadata": {
    "ExecuteTime": {
     "end_time": "2025-07-25T13:42:54.585171Z",
     "start_time": "2025-07-25T13:42:54.580925Z"
    }
   },
   "cell_type": "code",
   "source": [
    "documents = [None] * len(chunks)  # Create an empty list of the correct size\n",
    "\n",
    "for i in range(len(chunks)):\n",
    "   documents[i] = Document(page_content=chunks[i])\n"
   ],
   "id": "5cbe0143fbaa5c43",
   "outputs": [],
   "execution_count": 7
  },
  {
   "metadata": {},
   "cell_type": "markdown",
   "source": "Adds the dictionaries to vector store",
   "id": "a8f1c2b7a8e918d1"
  },
  {
   "metadata": {
    "ExecuteTime": {
     "end_time": "2025-07-25T13:42:54.739951Z",
     "start_time": "2025-07-25T13:42:54.613115Z"
    }
   },
   "cell_type": "code",
   "source": [
    "uuids = [str(uuid4()) for _ in range(len(documents))]\n",
    "\n",
    "vector_store.add_documents(documents=documents, ids=uuids)"
   ],
   "id": "a37af3a1f6a2a54",
   "outputs": [
    {
     "data": {
      "text/plain": [
       "['f9db2f2d-a020-491b-ae09-27f553a3e9f4',\n",
       " 'f9de44f9-1e86-4da0-98a6-e654ed667f61',\n",
       " '93c34f5f-cc7e-4511-8692-fc0512a6d35e',\n",
       " '4254b7d9-b13e-492a-918d-00c582f4ed0e']"
      ]
     },
     "execution_count": 8,
     "metadata": {},
     "output_type": "execute_result"
    }
   ],
   "execution_count": 8
  },
  {
   "metadata": {},
   "cell_type": "markdown",
   "source": "Saves the vector store",
   "id": "36d7384649a80a7d"
  },
  {
   "metadata": {
    "ExecuteTime": {
     "end_time": "2025-07-25T13:42:54.767738Z",
     "start_time": "2025-07-25T13:42:54.758274Z"
    }
   },
   "cell_type": "code",
   "source": "vector_store.save_local(\"faiss_index_dir\")",
   "id": "cf88815e1a269a79",
   "outputs": [],
   "execution_count": 9
  },
  {
   "metadata": {},
   "cell_type": "markdown",
   "source": "Loads the vector store",
   "id": "c4012605a6c0569e"
  },
  {
   "metadata": {
    "ExecuteTime": {
     "end_time": "2025-07-25T13:42:54.817023Z",
     "start_time": "2025-07-25T13:42:54.793076Z"
    }
   },
   "cell_type": "code",
   "source": [
    "loaded_vector_store = FAISS.load_local(\n",
    "    \"faiss_index_dir\",\n",
    "    embeddings,  allow_dangerous_deserialization=True\n",
    ")"
   ],
   "id": "ba086cd50ce06958",
   "outputs": [],
   "execution_count": 10
  },
  {
   "metadata": {
    "ExecuteTime": {
     "end_time": "2025-07-25T13:42:54.834068Z",
     "start_time": "2025-07-25T13:42:54.830002Z"
    }
   },
   "cell_type": "code",
   "source": "retriever = loaded_vector_store.as_retriever(search_type=\"mmr\", search_kwargs={\"k\": 3})",
   "id": "de26418b0b9f557d",
   "outputs": [],
   "execution_count": 11
  },
  {
   "metadata": {
    "ExecuteTime": {
     "end_time": "2025-07-25T13:42:54.871161Z",
     "start_time": "2025-07-25T13:42:54.865694Z"
    }
   },
   "cell_type": "code",
   "source": [
    "template=\"\"\"You are a helpful assistant. Use the context below to answer the user's question.\n",
    "Context:\n",
    "{context}\n",
    "\n",
    "Question:\n",
    "{question}\n",
    "\n",
    "Answer:\"\"\""
   ],
   "id": "bc3f84c4862ea6bb",
   "outputs": [],
   "execution_count": 12
  },
  {
   "metadata": {
    "ExecuteTime": {
     "end_time": "2025-07-25T13:42:57.204672Z",
     "start_time": "2025-07-25T13:42:54.903718Z"
    }
   },
   "cell_type": "code",
   "source": [
    "model_version = \"gpt2\"\n",
    "tokenizer = AutoTokenizer.from_pretrained(model_version)\n",
    "model = AutoModelForCausalLM.from_pretrained(model_version)\n",
    "\n",
    "# Create a Hugging Face pipeline for text generation\n",
    "pipe = pipeline(\n",
    "    \"text-generation\",\n",
    "    model=model,\n",
    "    tokenizer=tokenizer,\n",
    "    max_new_tokens=256,\n",
    "    temperature=0.5\n",
    ")\n",
    "# Wrap the pipeline for LangChain compatibility\n",
    "llm = HuggingFacePipeline(pipeline=pipe)\n",
    "# Define the Prompt Template\n",
    "template = \"\"\"You are a helpful assistant. Use the context below to answer the user's question.\n",
    "\n",
    "Context:\n",
    "{context}\n",
    "\n",
    "Question:\n",
    "{question}\n",
    "\n",
    "Answer:\"\"\"\n",
    "\n",
    "prompt = PromptTemplate(template=template, input_variables=[\"context\", \"question\"])\n",
    "# Define the RAG Chain\n",
    "rag_chain = RetrievalQA.from_chain_type(\n",
    "    llm=llm,\n",
    "    retriever=retriever,\n",
    "    chain_type_kwargs={\"prompt\": prompt},\n",
    "    return_source_documents=True\n",
    ")"
   ],
   "id": "767d6f90b4e999a5",
   "outputs": [
    {
     "name": "stderr",
     "output_type": "stream",
     "text": [
      "Device set to use cpu\n",
      "C:\\Users\\hp\\AppData\\Local\\Temp\\ipykernel_19384\\3758389459.py:14: LangChainDeprecationWarning: The class `HuggingFacePipeline` was deprecated in LangChain 0.0.37 and will be removed in 1.0. An updated version of the class exists in the :class:`~langchain-huggingface package and should be used instead. To use it run `pip install -U :class:`~langchain-huggingface` and import as `from :class:`~langchain_huggingface import HuggingFacePipeline``.\n",
      "  llm = HuggingFacePipeline(pipeline=pipe)\n"
     ]
    }
   ],
   "execution_count": 13
  },
  {
   "metadata": {},
   "cell_type": "markdown",
   "source": "Function to get answers",
   "id": "f43c75b91e4c7b07"
  },
  {
   "metadata": {
    "ExecuteTime": {
     "end_time": "2025-07-25T13:42:57.251640Z",
     "start_time": "2025-07-25T13:42:57.243339Z"
    }
   },
   "cell_type": "code",
   "source": [
    "def get_answer(question):\n",
    "    result = rag_chain({\"query\": question})\n",
    "    # Extract the generated answer\n",
    "    return result[\"result\"].split(\"Answer:\")[1].strip()"
   ],
   "id": "7f35310a0440ee3f",
   "outputs": [],
   "execution_count": 14
  },
  {
   "metadata": {},
   "cell_type": "markdown",
   "source": "Langchain integration",
   "id": "812354a73803b297"
  },
  {
   "metadata": {
    "ExecuteTime": {
     "end_time": "2025-07-25T13:42:57.878493Z",
     "start_time": "2025-07-25T13:42:57.289417Z"
    }
   },
   "cell_type": "code",
   "source": [
    "st.set_page_config(page_title=\"Knowledge Chatbot\")\n",
    "st.title(\"📚 Your Personal Knowledge Chatbot\")\n",
    "\n",
    "if \"history\" not in st.session_state:\n",
    "    st.session_state.history = []\n",
    "\n",
    "if \"last_query\" not in st.session_state:\n",
    "    st.session_state.last_query = \"\"\n",
    "\n",
    "query = st.text_input(\"Ask something from your content:\")\n",
    "if query != st.session_state.last_query:\n",
    "    response = get_answer(query)\n",
    "    st.session_state.history.append((query, response))\n",
    "    st.session_state.last_query = query\n",
    "\n",
    "for q, r in reversed(st.session_state.history):\n",
    "    st.markdown(f\"**You:** {q}\")\n",
    "    st.markdown(f\"**Bot:** {r}\")"
   ],
   "id": "c4f7cd831a8ee81a",
   "outputs": [
    {
     "name": "stderr",
     "output_type": "stream",
     "text": [
      "2025-07-25 18:42:57.292 WARNING streamlit.runtime.scriptrunner_utils.script_run_context: Thread 'MainThread': missing ScriptRunContext! This warning can be ignored when running in bare mode.\n",
      "2025-07-25 18:42:57.293 WARNING streamlit.runtime.scriptrunner_utils.script_run_context: Thread 'MainThread': missing ScriptRunContext! This warning can be ignored when running in bare mode.\n",
      "2025-07-25 18:42:57.827 \n",
      "  \u001B[33m\u001B[1mWarning:\u001B[0m to view this Streamlit app on a browser, run it with the following\n",
      "  command:\n",
      "\n",
      "    streamlit run C:\\Users\\hp\\Desktop\\Aykay\\.venv\\Lib\\site-packages\\ipykernel_launcher.py [ARGUMENTS]\n",
      "2025-07-25 18:42:57.828 Thread 'MainThread': missing ScriptRunContext! This warning can be ignored when running in bare mode.\n",
      "2025-07-25 18:42:57.829 Thread 'MainThread': missing ScriptRunContext! This warning can be ignored when running in bare mode.\n",
      "2025-07-25 18:42:57.830 Thread 'MainThread': missing ScriptRunContext! This warning can be ignored when running in bare mode.\n",
      "2025-07-25 18:42:57.831 Session state does not function when running a script without `streamlit run`\n",
      "2025-07-25 18:42:57.834 Thread 'MainThread': missing ScriptRunContext! This warning can be ignored when running in bare mode.\n",
      "2025-07-25 18:42:57.835 Thread 'MainThread': missing ScriptRunContext! This warning can be ignored when running in bare mode.\n",
      "2025-07-25 18:42:57.837 Thread 'MainThread': missing ScriptRunContext! This warning can be ignored when running in bare mode.\n",
      "2025-07-25 18:42:57.840 Thread 'MainThread': missing ScriptRunContext! This warning can be ignored when running in bare mode.\n",
      "2025-07-25 18:42:57.844 Thread 'MainThread': missing ScriptRunContext! This warning can be ignored when running in bare mode.\n",
      "2025-07-25 18:42:57.846 Thread 'MainThread': missing ScriptRunContext! This warning can be ignored when running in bare mode.\n",
      "2025-07-25 18:42:57.847 Thread 'MainThread': missing ScriptRunContext! This warning can be ignored when running in bare mode.\n",
      "2025-07-25 18:42:57.849 Thread 'MainThread': missing ScriptRunContext! This warning can be ignored when running in bare mode.\n",
      "2025-07-25 18:42:57.862 Thread 'MainThread': missing ScriptRunContext! This warning can be ignored when running in bare mode.\n",
      "2025-07-25 18:42:57.865 Thread 'MainThread': missing ScriptRunContext! This warning can be ignored when running in bare mode.\n",
      "2025-07-25 18:42:57.867 Thread 'MainThread': missing ScriptRunContext! This warning can be ignored when running in bare mode.\n",
      "2025-07-25 18:42:57.868 Thread 'MainThread': missing ScriptRunContext! This warning can be ignored when running in bare mode.\n",
      "2025-07-25 18:42:57.870 Thread 'MainThread': missing ScriptRunContext! This warning can be ignored when running in bare mode.\n",
      "2025-07-25 18:42:57.871 Thread 'MainThread': missing ScriptRunContext! This warning can be ignored when running in bare mode.\n"
     ]
    }
   ],
   "execution_count": 15
  }
 ],
 "metadata": {
  "kernelspec": {
   "display_name": "Python 3",
   "language": "python",
   "name": "python3"
  },
  "language_info": {
   "codemirror_mode": {
    "name": "ipython",
    "version": 2
   },
   "file_extension": ".py",
   "mimetype": "text/x-python",
   "name": "python",
   "nbconvert_exporter": "python",
   "pygments_lexer": "ipython2",
   "version": "2.7.6"
  }
 },
 "nbformat": 4,
 "nbformat_minor": 5
}
