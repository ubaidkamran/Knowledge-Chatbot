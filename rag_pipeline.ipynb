{
 "cells": [
  {
   "metadata": {},
   "cell_type": "markdown",
   "source": "Install needed libraries",
   "id": "30fd542e6b9d6c2"
  },
  {
   "cell_type": "code",
   "id": "initial_id",
   "metadata": {
    "collapsed": true,
    "ExecuteTime": {
     "end_time": "2025-07-17T08:41:09.776324Z",
     "start_time": "2025-07-17T08:41:04.952875Z"
    }
   },
   "source": [
    "!pip install langchain-community faiss-cpu\n",
    "!pip install sentence-transformers\n",
    "!pip install streamlit\n",
    "!pip install langchain_huggingface"
   ],
   "outputs": [
    {
     "name": "stdout",
     "output_type": "stream",
     "text": [
      "Requirement already satisfied: langchain-community in c:\\users\\hp\\desktop\\aykay\\.venv\\lib\\site-packages (0.3.27)\n",
      "Requirement already satisfied: faiss-cpu in c:\\users\\hp\\desktop\\aykay\\.venv\\lib\\site-packages (1.11.0.post1)\n",
      "Requirement already satisfied: langchain-core<1.0.0,>=0.3.66 in c:\\users\\hp\\desktop\\aykay\\.venv\\lib\\site-packages (from langchain-community) (0.3.69)\n",
      "Requirement already satisfied: langchain<1.0.0,>=0.3.26 in c:\\users\\hp\\desktop\\aykay\\.venv\\lib\\site-packages (from langchain-community) (0.3.26)\n",
      "Requirement already satisfied: SQLAlchemy<3,>=1.4 in c:\\users\\hp\\desktop\\aykay\\.venv\\lib\\site-packages (from langchain-community) (2.0.41)\n",
      "Requirement already satisfied: requests<3,>=2 in c:\\users\\hp\\desktop\\aykay\\.venv\\lib\\site-packages (from langchain-community) (2.32.4)\n",
      "Requirement already satisfied: PyYAML>=5.3 in c:\\users\\hp\\desktop\\aykay\\.venv\\lib\\site-packages (from langchain-community) (6.0.2)\n",
      "Requirement already satisfied: aiohttp<4.0.0,>=3.8.3 in c:\\users\\hp\\desktop\\aykay\\.venv\\lib\\site-packages (from langchain-community) (3.12.14)\n",
      "Requirement already satisfied: tenacity!=8.4.0,<10,>=8.1.0 in c:\\users\\hp\\desktop\\aykay\\.venv\\lib\\site-packages (from langchain-community) (9.1.2)\n",
      "Requirement already satisfied: dataclasses-json<0.7,>=0.5.7 in c:\\users\\hp\\desktop\\aykay\\.venv\\lib\\site-packages (from langchain-community) (0.6.7)\n",
      "Requirement already satisfied: pydantic-settings<3.0.0,>=2.4.0 in c:\\users\\hp\\desktop\\aykay\\.venv\\lib\\site-packages (from langchain-community) (2.10.1)\n",
      "Requirement already satisfied: langsmith>=0.1.125 in c:\\users\\hp\\desktop\\aykay\\.venv\\lib\\site-packages (from langchain-community) (0.4.6)\n",
      "Requirement already satisfied: httpx-sse<1.0.0,>=0.4.0 in c:\\users\\hp\\desktop\\aykay\\.venv\\lib\\site-packages (from langchain-community) (0.4.1)\n",
      "Requirement already satisfied: numpy>=2.1.0 in c:\\users\\hp\\desktop\\aykay\\.venv\\lib\\site-packages (from langchain-community) (2.3.1)\n",
      "Requirement already satisfied: aiohappyeyeballs>=2.5.0 in c:\\users\\hp\\desktop\\aykay\\.venv\\lib\\site-packages (from aiohttp<4.0.0,>=3.8.3->langchain-community) (2.6.1)\n",
      "Requirement already satisfied: aiosignal>=1.4.0 in c:\\users\\hp\\desktop\\aykay\\.venv\\lib\\site-packages (from aiohttp<4.0.0,>=3.8.3->langchain-community) (1.4.0)\n",
      "Requirement already satisfied: attrs>=17.3.0 in c:\\users\\hp\\desktop\\aykay\\.venv\\lib\\site-packages (from aiohttp<4.0.0,>=3.8.3->langchain-community) (25.3.0)\n",
      "Requirement already satisfied: frozenlist>=1.1.1 in c:\\users\\hp\\desktop\\aykay\\.venv\\lib\\site-packages (from aiohttp<4.0.0,>=3.8.3->langchain-community) (1.7.0)\n",
      "Requirement already satisfied: multidict<7.0,>=4.5 in c:\\users\\hp\\desktop\\aykay\\.venv\\lib\\site-packages (from aiohttp<4.0.0,>=3.8.3->langchain-community) (6.6.3)\n",
      "Requirement already satisfied: propcache>=0.2.0 in c:\\users\\hp\\desktop\\aykay\\.venv\\lib\\site-packages (from aiohttp<4.0.0,>=3.8.3->langchain-community) (0.3.2)\n",
      "Requirement already satisfied: yarl<2.0,>=1.17.0 in c:\\users\\hp\\desktop\\aykay\\.venv\\lib\\site-packages (from aiohttp<4.0.0,>=3.8.3->langchain-community) (1.20.1)\n",
      "Requirement already satisfied: marshmallow<4.0.0,>=3.18.0 in c:\\users\\hp\\desktop\\aykay\\.venv\\lib\\site-packages (from dataclasses-json<0.7,>=0.5.7->langchain-community) (3.26.1)\n",
      "Requirement already satisfied: typing-inspect<1,>=0.4.0 in c:\\users\\hp\\desktop\\aykay\\.venv\\lib\\site-packages (from dataclasses-json<0.7,>=0.5.7->langchain-community) (0.9.0)\n",
      "Requirement already satisfied: langchain-text-splitters<1.0.0,>=0.3.8 in c:\\users\\hp\\desktop\\aykay\\.venv\\lib\\site-packages (from langchain<1.0.0,>=0.3.26->langchain-community) (0.3.8)\n",
      "Requirement already satisfied: pydantic<3.0.0,>=2.7.4 in c:\\users\\hp\\desktop\\aykay\\.venv\\lib\\site-packages (from langchain<1.0.0,>=0.3.26->langchain-community) (2.11.7)\n",
      "Requirement already satisfied: jsonpatch<2.0,>=1.33 in c:\\users\\hp\\desktop\\aykay\\.venv\\lib\\site-packages (from langchain-core<1.0.0,>=0.3.66->langchain-community) (1.33)\n",
      "Requirement already satisfied: typing-extensions>=4.7 in c:\\users\\hp\\desktop\\aykay\\.venv\\lib\\site-packages (from langchain-core<1.0.0,>=0.3.66->langchain-community) (4.14.1)\n",
      "Requirement already satisfied: packaging>=23.2 in c:\\users\\hp\\desktop\\aykay\\.venv\\lib\\site-packages (from langchain-core<1.0.0,>=0.3.66->langchain-community) (25.0)\n",
      "Requirement already satisfied: jsonpointer>=1.9 in c:\\users\\hp\\desktop\\aykay\\.venv\\lib\\site-packages (from jsonpatch<2.0,>=1.33->langchain-core<1.0.0,>=0.3.66->langchain-community) (3.0.0)\n",
      "Requirement already satisfied: annotated-types>=0.6.0 in c:\\users\\hp\\desktop\\aykay\\.venv\\lib\\site-packages (from pydantic<3.0.0,>=2.7.4->langchain<1.0.0,>=0.3.26->langchain-community) (0.7.0)\n",
      "Requirement already satisfied: pydantic-core==2.33.2 in c:\\users\\hp\\desktop\\aykay\\.venv\\lib\\site-packages (from pydantic<3.0.0,>=2.7.4->langchain<1.0.0,>=0.3.26->langchain-community) (2.33.2)\n",
      "Requirement already satisfied: typing-inspection>=0.4.0 in c:\\users\\hp\\desktop\\aykay\\.venv\\lib\\site-packages (from pydantic<3.0.0,>=2.7.4->langchain<1.0.0,>=0.3.26->langchain-community) (0.4.1)\n",
      "Requirement already satisfied: python-dotenv>=0.21.0 in c:\\users\\hp\\desktop\\aykay\\.venv\\lib\\site-packages (from pydantic-settings<3.0.0,>=2.4.0->langchain-community) (1.1.1)\n",
      "Requirement already satisfied: charset_normalizer<4,>=2 in c:\\users\\hp\\desktop\\aykay\\.venv\\lib\\site-packages (from requests<3,>=2->langchain-community) (3.4.2)\n",
      "Requirement already satisfied: idna<4,>=2.5 in c:\\users\\hp\\desktop\\aykay\\.venv\\lib\\site-packages (from requests<3,>=2->langchain-community) (3.10)\n",
      "Requirement already satisfied: urllib3<3,>=1.21.1 in c:\\users\\hp\\desktop\\aykay\\.venv\\lib\\site-packages (from requests<3,>=2->langchain-community) (2.5.0)\n",
      "Requirement already satisfied: certifi>=2017.4.17 in c:\\users\\hp\\desktop\\aykay\\.venv\\lib\\site-packages (from requests<3,>=2->langchain-community) (2025.7.14)\n",
      "Requirement already satisfied: greenlet>=1 in c:\\users\\hp\\desktop\\aykay\\.venv\\lib\\site-packages (from SQLAlchemy<3,>=1.4->langchain-community) (3.2.3)\n",
      "Requirement already satisfied: mypy-extensions>=0.3.0 in c:\\users\\hp\\desktop\\aykay\\.venv\\lib\\site-packages (from typing-inspect<1,>=0.4.0->dataclasses-json<0.7,>=0.5.7->langchain-community) (1.1.0)\n",
      "Requirement already satisfied: httpx<1,>=0.23.0 in c:\\users\\hp\\desktop\\aykay\\.venv\\lib\\site-packages (from langsmith>=0.1.125->langchain-community) (0.28.1)\n",
      "Requirement already satisfied: orjson<4.0.0,>=3.9.14 in c:\\users\\hp\\desktop\\aykay\\.venv\\lib\\site-packages (from langsmith>=0.1.125->langchain-community) (3.11.0)\n",
      "Requirement already satisfied: requests-toolbelt<2.0.0,>=1.0.0 in c:\\users\\hp\\desktop\\aykay\\.venv\\lib\\site-packages (from langsmith>=0.1.125->langchain-community) (1.0.0)\n",
      "Requirement already satisfied: zstandard<0.24.0,>=0.23.0 in c:\\users\\hp\\desktop\\aykay\\.venv\\lib\\site-packages (from langsmith>=0.1.125->langchain-community) (0.23.0)\n",
      "Requirement already satisfied: anyio in c:\\users\\hp\\desktop\\aykay\\.venv\\lib\\site-packages (from httpx<1,>=0.23.0->langsmith>=0.1.125->langchain-community) (4.9.0)\n",
      "Requirement already satisfied: httpcore==1.* in c:\\users\\hp\\desktop\\aykay\\.venv\\lib\\site-packages (from httpx<1,>=0.23.0->langsmith>=0.1.125->langchain-community) (1.0.9)\n",
      "Requirement already satisfied: h11>=0.16 in c:\\users\\hp\\desktop\\aykay\\.venv\\lib\\site-packages (from httpcore==1.*->httpx<1,>=0.23.0->langsmith>=0.1.125->langchain-community) (0.16.0)\n",
      "Requirement already satisfied: sniffio>=1.1 in c:\\users\\hp\\desktop\\aykay\\.venv\\lib\\site-packages (from anyio->httpx<1,>=0.23.0->langsmith>=0.1.125->langchain-community) (1.3.1)\n",
      "Requirement already satisfied: sentence-transformers in c:\\users\\hp\\desktop\\aykay\\.venv\\lib\\site-packages (5.0.0)\n",
      "Requirement already satisfied: transformers<5.0.0,>=4.41.0 in c:\\users\\hp\\desktop\\aykay\\.venv\\lib\\site-packages (from sentence-transformers) (4.53.2)\n",
      "Requirement already satisfied: tqdm in c:\\users\\hp\\desktop\\aykay\\.venv\\lib\\site-packages (from sentence-transformers) (4.67.1)\n",
      "Requirement already satisfied: torch>=1.11.0 in c:\\users\\hp\\desktop\\aykay\\.venv\\lib\\site-packages (from sentence-transformers) (2.7.1)\n",
      "Requirement already satisfied: scikit-learn in c:\\users\\hp\\desktop\\aykay\\.venv\\lib\\site-packages (from sentence-transformers) (1.7.0)\n",
      "Requirement already satisfied: scipy in c:\\users\\hp\\desktop\\aykay\\.venv\\lib\\site-packages (from sentence-transformers) (1.16.0)\n",
      "Requirement already satisfied: huggingface-hub>=0.20.0 in c:\\users\\hp\\desktop\\aykay\\.venv\\lib\\site-packages (from sentence-transformers) (0.33.4)\n",
      "Requirement already satisfied: Pillow in c:\\users\\hp\\desktop\\aykay\\.venv\\lib\\site-packages (from sentence-transformers) (11.3.0)\n",
      "Requirement already satisfied: typing_extensions>=4.5.0 in c:\\users\\hp\\desktop\\aykay\\.venv\\lib\\site-packages (from sentence-transformers) (4.14.1)\n",
      "Requirement already satisfied: filelock in c:\\users\\hp\\desktop\\aykay\\.venv\\lib\\site-packages (from transformers<5.0.0,>=4.41.0->sentence-transformers) (3.18.0)\n",
      "Requirement already satisfied: numpy>=1.17 in c:\\users\\hp\\desktop\\aykay\\.venv\\lib\\site-packages (from transformers<5.0.0,>=4.41.0->sentence-transformers) (2.3.1)\n",
      "Requirement already satisfied: packaging>=20.0 in c:\\users\\hp\\desktop\\aykay\\.venv\\lib\\site-packages (from transformers<5.0.0,>=4.41.0->sentence-transformers) (25.0)\n",
      "Requirement already satisfied: pyyaml>=5.1 in c:\\users\\hp\\desktop\\aykay\\.venv\\lib\\site-packages (from transformers<5.0.0,>=4.41.0->sentence-transformers) (6.0.2)\n",
      "Requirement already satisfied: regex!=2019.12.17 in c:\\users\\hp\\desktop\\aykay\\.venv\\lib\\site-packages (from transformers<5.0.0,>=4.41.0->sentence-transformers) (2024.11.6)\n",
      "Requirement already satisfied: requests in c:\\users\\hp\\desktop\\aykay\\.venv\\lib\\site-packages (from transformers<5.0.0,>=4.41.0->sentence-transformers) (2.32.4)\n",
      "Requirement already satisfied: tokenizers<0.22,>=0.21 in c:\\users\\hp\\desktop\\aykay\\.venv\\lib\\site-packages (from transformers<5.0.0,>=4.41.0->sentence-transformers) (0.21.2)\n",
      "Requirement already satisfied: safetensors>=0.4.3 in c:\\users\\hp\\desktop\\aykay\\.venv\\lib\\site-packages (from transformers<5.0.0,>=4.41.0->sentence-transformers) (0.5.3)\n",
      "Requirement already satisfied: fsspec>=2023.5.0 in c:\\users\\hp\\desktop\\aykay\\.venv\\lib\\site-packages (from huggingface-hub>=0.20.0->sentence-transformers) (2025.5.1)\n",
      "Requirement already satisfied: sympy>=1.13.3 in c:\\users\\hp\\desktop\\aykay\\.venv\\lib\\site-packages (from torch>=1.11.0->sentence-transformers) (1.14.0)\n",
      "Requirement already satisfied: networkx in c:\\users\\hp\\desktop\\aykay\\.venv\\lib\\site-packages (from torch>=1.11.0->sentence-transformers) (3.5)\n",
      "Requirement already satisfied: jinja2 in c:\\users\\hp\\desktop\\aykay\\.venv\\lib\\site-packages (from torch>=1.11.0->sentence-transformers) (3.1.6)\n",
      "Requirement already satisfied: setuptools in c:\\users\\hp\\desktop\\aykay\\.venv\\lib\\site-packages (from torch>=1.11.0->sentence-transformers) (80.9.0)\n",
      "Requirement already satisfied: mpmath<1.4,>=1.1.0 in c:\\users\\hp\\desktop\\aykay\\.venv\\lib\\site-packages (from sympy>=1.13.3->torch>=1.11.0->sentence-transformers) (1.3.0)\n",
      "Requirement already satisfied: colorama in c:\\users\\hp\\desktop\\aykay\\.venv\\lib\\site-packages (from tqdm->sentence-transformers) (0.4.6)\n",
      "Requirement already satisfied: MarkupSafe>=2.0 in c:\\users\\hp\\desktop\\aykay\\.venv\\lib\\site-packages (from jinja2->torch>=1.11.0->sentence-transformers) (3.0.2)\n",
      "Requirement already satisfied: charset_normalizer<4,>=2 in c:\\users\\hp\\desktop\\aykay\\.venv\\lib\\site-packages (from requests->transformers<5.0.0,>=4.41.0->sentence-transformers) (3.4.2)\n",
      "Requirement already satisfied: idna<4,>=2.5 in c:\\users\\hp\\desktop\\aykay\\.venv\\lib\\site-packages (from requests->transformers<5.0.0,>=4.41.0->sentence-transformers) (3.10)\n",
      "Requirement already satisfied: urllib3<3,>=1.21.1 in c:\\users\\hp\\desktop\\aykay\\.venv\\lib\\site-packages (from requests->transformers<5.0.0,>=4.41.0->sentence-transformers) (2.5.0)\n",
      "Requirement already satisfied: certifi>=2017.4.17 in c:\\users\\hp\\desktop\\aykay\\.venv\\lib\\site-packages (from requests->transformers<5.0.0,>=4.41.0->sentence-transformers) (2025.7.14)\n",
      "Requirement already satisfied: joblib>=1.2.0 in c:\\users\\hp\\desktop\\aykay\\.venv\\lib\\site-packages (from scikit-learn->sentence-transformers) (1.5.1)\n",
      "Requirement already satisfied: threadpoolctl>=3.1.0 in c:\\users\\hp\\desktop\\aykay\\.venv\\lib\\site-packages (from scikit-learn->sentence-transformers) (3.6.0)\n",
      "Requirement already satisfied: streamlit in c:\\users\\hp\\desktop\\aykay\\.venv\\lib\\site-packages (1.46.1)\n",
      "Requirement already satisfied: altair<6,>=4.0 in c:\\users\\hp\\desktop\\aykay\\.venv\\lib\\site-packages (from streamlit) (5.5.0)\n",
      "Requirement already satisfied: blinker<2,>=1.5.0 in c:\\users\\hp\\desktop\\aykay\\.venv\\lib\\site-packages (from streamlit) (1.9.0)\n",
      "Requirement already satisfied: cachetools<7,>=4.0 in c:\\users\\hp\\desktop\\aykay\\.venv\\lib\\site-packages (from streamlit) (6.1.0)\n",
      "Requirement already satisfied: click<9,>=7.0 in c:\\users\\hp\\desktop\\aykay\\.venv\\lib\\site-packages (from streamlit) (8.2.1)\n",
      "Requirement already satisfied: numpy<3,>=1.23 in c:\\users\\hp\\desktop\\aykay\\.venv\\lib\\site-packages (from streamlit) (2.3.1)\n",
      "Requirement already satisfied: packaging<26,>=20 in c:\\users\\hp\\desktop\\aykay\\.venv\\lib\\site-packages (from streamlit) (25.0)\n",
      "Requirement already satisfied: pandas<3,>=1.4.0 in c:\\users\\hp\\desktop\\aykay\\.venv\\lib\\site-packages (from streamlit) (2.3.1)\n",
      "Requirement already satisfied: pillow<12,>=7.1.0 in c:\\users\\hp\\desktop\\aykay\\.venv\\lib\\site-packages (from streamlit) (11.3.0)\n",
      "Requirement already satisfied: protobuf<7,>=3.20 in c:\\users\\hp\\desktop\\aykay\\.venv\\lib\\site-packages (from streamlit) (6.31.1)\n",
      "Requirement already satisfied: pyarrow>=7.0 in c:\\users\\hp\\desktop\\aykay\\.venv\\lib\\site-packages (from streamlit) (20.0.0)\n",
      "Requirement already satisfied: requests<3,>=2.27 in c:\\users\\hp\\desktop\\aykay\\.venv\\lib\\site-packages (from streamlit) (2.32.4)\n",
      "Requirement already satisfied: tenacity<10,>=8.1.0 in c:\\users\\hp\\desktop\\aykay\\.venv\\lib\\site-packages (from streamlit) (9.1.2)\n",
      "Requirement already satisfied: toml<2,>=0.10.1 in c:\\users\\hp\\desktop\\aykay\\.venv\\lib\\site-packages (from streamlit) (0.10.2)\n",
      "Requirement already satisfied: typing-extensions<5,>=4.4.0 in c:\\users\\hp\\desktop\\aykay\\.venv\\lib\\site-packages (from streamlit) (4.14.1)\n",
      "Requirement already satisfied: watchdog<7,>=2.1.5 in c:\\users\\hp\\desktop\\aykay\\.venv\\lib\\site-packages (from streamlit) (6.0.0)\n",
      "Requirement already satisfied: gitpython!=3.1.19,<4,>=3.0.7 in c:\\users\\hp\\desktop\\aykay\\.venv\\lib\\site-packages (from streamlit) (3.1.44)\n",
      "Requirement already satisfied: pydeck<1,>=0.8.0b4 in c:\\users\\hp\\desktop\\aykay\\.venv\\lib\\site-packages (from streamlit) (0.9.1)\n",
      "Requirement already satisfied: tornado!=6.5.0,<7,>=6.0.3 in c:\\users\\hp\\desktop\\aykay\\.venv\\lib\\site-packages (from streamlit) (6.5.1)\n",
      "Requirement already satisfied: jinja2 in c:\\users\\hp\\desktop\\aykay\\.venv\\lib\\site-packages (from altair<6,>=4.0->streamlit) (3.1.6)\n",
      "Requirement already satisfied: jsonschema>=3.0 in c:\\users\\hp\\desktop\\aykay\\.venv\\lib\\site-packages (from altair<6,>=4.0->streamlit) (4.24.0)\n",
      "Requirement already satisfied: narwhals>=1.14.2 in c:\\users\\hp\\desktop\\aykay\\.venv\\lib\\site-packages (from altair<6,>=4.0->streamlit) (1.47.0)\n",
      "Requirement already satisfied: colorama in c:\\users\\hp\\desktop\\aykay\\.venv\\lib\\site-packages (from click<9,>=7.0->streamlit) (0.4.6)\n",
      "Requirement already satisfied: gitdb<5,>=4.0.1 in c:\\users\\hp\\desktop\\aykay\\.venv\\lib\\site-packages (from gitpython!=3.1.19,<4,>=3.0.7->streamlit) (4.0.12)\n",
      "Requirement already satisfied: smmap<6,>=3.0.1 in c:\\users\\hp\\desktop\\aykay\\.venv\\lib\\site-packages (from gitdb<5,>=4.0.1->gitpython!=3.1.19,<4,>=3.0.7->streamlit) (5.0.2)\n",
      "Requirement already satisfied: python-dateutil>=2.8.2 in c:\\users\\hp\\desktop\\aykay\\.venv\\lib\\site-packages (from pandas<3,>=1.4.0->streamlit) (2.9.0.post0)\n",
      "Requirement already satisfied: pytz>=2020.1 in c:\\users\\hp\\desktop\\aykay\\.venv\\lib\\site-packages (from pandas<3,>=1.4.0->streamlit) (2025.2)\n",
      "Requirement already satisfied: tzdata>=2022.7 in c:\\users\\hp\\desktop\\aykay\\.venv\\lib\\site-packages (from pandas<3,>=1.4.0->streamlit) (2025.2)\n",
      "Requirement already satisfied: charset_normalizer<4,>=2 in c:\\users\\hp\\desktop\\aykay\\.venv\\lib\\site-packages (from requests<3,>=2.27->streamlit) (3.4.2)\n",
      "Requirement already satisfied: idna<4,>=2.5 in c:\\users\\hp\\desktop\\aykay\\.venv\\lib\\site-packages (from requests<3,>=2.27->streamlit) (3.10)\n",
      "Requirement already satisfied: urllib3<3,>=1.21.1 in c:\\users\\hp\\desktop\\aykay\\.venv\\lib\\site-packages (from requests<3,>=2.27->streamlit) (2.5.0)\n",
      "Requirement already satisfied: certifi>=2017.4.17 in c:\\users\\hp\\desktop\\aykay\\.venv\\lib\\site-packages (from requests<3,>=2.27->streamlit) (2025.7.14)\n",
      "Requirement already satisfied: MarkupSafe>=2.0 in c:\\users\\hp\\desktop\\aykay\\.venv\\lib\\site-packages (from jinja2->altair<6,>=4.0->streamlit) (3.0.2)\n",
      "Requirement already satisfied: attrs>=22.2.0 in c:\\users\\hp\\desktop\\aykay\\.venv\\lib\\site-packages (from jsonschema>=3.0->altair<6,>=4.0->streamlit) (25.3.0)\n",
      "Requirement already satisfied: jsonschema-specifications>=2023.03.6 in c:\\users\\hp\\desktop\\aykay\\.venv\\lib\\site-packages (from jsonschema>=3.0->altair<6,>=4.0->streamlit) (2025.4.1)\n",
      "Requirement already satisfied: referencing>=0.28.4 in c:\\users\\hp\\desktop\\aykay\\.venv\\lib\\site-packages (from jsonschema>=3.0->altair<6,>=4.0->streamlit) (0.36.2)\n",
      "Requirement already satisfied: rpds-py>=0.7.1 in c:\\users\\hp\\desktop\\aykay\\.venv\\lib\\site-packages (from jsonschema>=3.0->altair<6,>=4.0->streamlit) (0.26.0)\n",
      "Requirement already satisfied: six>=1.5 in c:\\users\\hp\\desktop\\aykay\\.venv\\lib\\site-packages (from python-dateutil>=2.8.2->pandas<3,>=1.4.0->streamlit) (1.17.0)\n",
      "Requirement already satisfied: langchain_huggingface in c:\\users\\hp\\desktop\\aykay\\.venv\\lib\\site-packages (0.3.0)\n",
      "Requirement already satisfied: langchain-core<1.0.0,>=0.3.65 in c:\\users\\hp\\desktop\\aykay\\.venv\\lib\\site-packages (from langchain_huggingface) (0.3.69)\n",
      "Requirement already satisfied: tokenizers>=0.19.1 in c:\\users\\hp\\desktop\\aykay\\.venv\\lib\\site-packages (from langchain_huggingface) (0.21.2)\n",
      "Requirement already satisfied: huggingface-hub>=0.30.2 in c:\\users\\hp\\desktop\\aykay\\.venv\\lib\\site-packages (from langchain_huggingface) (0.33.4)\n",
      "Requirement already satisfied: langsmith>=0.3.45 in c:\\users\\hp\\desktop\\aykay\\.venv\\lib\\site-packages (from langchain-core<1.0.0,>=0.3.65->langchain_huggingface) (0.4.6)\n",
      "Requirement already satisfied: tenacity!=8.4.0,<10.0.0,>=8.1.0 in c:\\users\\hp\\desktop\\aykay\\.venv\\lib\\site-packages (from langchain-core<1.0.0,>=0.3.65->langchain_huggingface) (9.1.2)\n",
      "Requirement already satisfied: jsonpatch<2.0,>=1.33 in c:\\users\\hp\\desktop\\aykay\\.venv\\lib\\site-packages (from langchain-core<1.0.0,>=0.3.65->langchain_huggingface) (1.33)\n",
      "Requirement already satisfied: PyYAML>=5.3 in c:\\users\\hp\\desktop\\aykay\\.venv\\lib\\site-packages (from langchain-core<1.0.0,>=0.3.65->langchain_huggingface) (6.0.2)\n",
      "Requirement already satisfied: typing-extensions>=4.7 in c:\\users\\hp\\desktop\\aykay\\.venv\\lib\\site-packages (from langchain-core<1.0.0,>=0.3.65->langchain_huggingface) (4.14.1)\n",
      "Requirement already satisfied: packaging>=23.2 in c:\\users\\hp\\desktop\\aykay\\.venv\\lib\\site-packages (from langchain-core<1.0.0,>=0.3.65->langchain_huggingface) (25.0)\n",
      "Requirement already satisfied: pydantic>=2.7.4 in c:\\users\\hp\\desktop\\aykay\\.venv\\lib\\site-packages (from langchain-core<1.0.0,>=0.3.65->langchain_huggingface) (2.11.7)\n",
      "Requirement already satisfied: jsonpointer>=1.9 in c:\\users\\hp\\desktop\\aykay\\.venv\\lib\\site-packages (from jsonpatch<2.0,>=1.33->langchain-core<1.0.0,>=0.3.65->langchain_huggingface) (3.0.0)\n",
      "Requirement already satisfied: filelock in c:\\users\\hp\\desktop\\aykay\\.venv\\lib\\site-packages (from huggingface-hub>=0.30.2->langchain_huggingface) (3.18.0)\n",
      "Requirement already satisfied: fsspec>=2023.5.0 in c:\\users\\hp\\desktop\\aykay\\.venv\\lib\\site-packages (from huggingface-hub>=0.30.2->langchain_huggingface) (2025.5.1)\n",
      "Requirement already satisfied: requests in c:\\users\\hp\\desktop\\aykay\\.venv\\lib\\site-packages (from huggingface-hub>=0.30.2->langchain_huggingface) (2.32.4)\n",
      "Requirement already satisfied: tqdm>=4.42.1 in c:\\users\\hp\\desktop\\aykay\\.venv\\lib\\site-packages (from huggingface-hub>=0.30.2->langchain_huggingface) (4.67.1)\n",
      "Requirement already satisfied: httpx<1,>=0.23.0 in c:\\users\\hp\\desktop\\aykay\\.venv\\lib\\site-packages (from langsmith>=0.3.45->langchain-core<1.0.0,>=0.3.65->langchain_huggingface) (0.28.1)\n",
      "Requirement already satisfied: orjson<4.0.0,>=3.9.14 in c:\\users\\hp\\desktop\\aykay\\.venv\\lib\\site-packages (from langsmith>=0.3.45->langchain-core<1.0.0,>=0.3.65->langchain_huggingface) (3.11.0)\n",
      "Requirement already satisfied: requests-toolbelt<2.0.0,>=1.0.0 in c:\\users\\hp\\desktop\\aykay\\.venv\\lib\\site-packages (from langsmith>=0.3.45->langchain-core<1.0.0,>=0.3.65->langchain_huggingface) (1.0.0)\n",
      "Requirement already satisfied: zstandard<0.24.0,>=0.23.0 in c:\\users\\hp\\desktop\\aykay\\.venv\\lib\\site-packages (from langsmith>=0.3.45->langchain-core<1.0.0,>=0.3.65->langchain_huggingface) (0.23.0)\n",
      "Requirement already satisfied: anyio in c:\\users\\hp\\desktop\\aykay\\.venv\\lib\\site-packages (from httpx<1,>=0.23.0->langsmith>=0.3.45->langchain-core<1.0.0,>=0.3.65->langchain_huggingface) (4.9.0)\n",
      "Requirement already satisfied: certifi in c:\\users\\hp\\desktop\\aykay\\.venv\\lib\\site-packages (from httpx<1,>=0.23.0->langsmith>=0.3.45->langchain-core<1.0.0,>=0.3.65->langchain_huggingface) (2025.7.14)\n",
      "Requirement already satisfied: httpcore==1.* in c:\\users\\hp\\desktop\\aykay\\.venv\\lib\\site-packages (from httpx<1,>=0.23.0->langsmith>=0.3.45->langchain-core<1.0.0,>=0.3.65->langchain_huggingface) (1.0.9)\n",
      "Requirement already satisfied: idna in c:\\users\\hp\\desktop\\aykay\\.venv\\lib\\site-packages (from httpx<1,>=0.23.0->langsmith>=0.3.45->langchain-core<1.0.0,>=0.3.65->langchain_huggingface) (3.10)\n",
      "Requirement already satisfied: h11>=0.16 in c:\\users\\hp\\desktop\\aykay\\.venv\\lib\\site-packages (from httpcore==1.*->httpx<1,>=0.23.0->langsmith>=0.3.45->langchain-core<1.0.0,>=0.3.65->langchain_huggingface) (0.16.0)\n",
      "Requirement already satisfied: annotated-types>=0.6.0 in c:\\users\\hp\\desktop\\aykay\\.venv\\lib\\site-packages (from pydantic>=2.7.4->langchain-core<1.0.0,>=0.3.65->langchain_huggingface) (0.7.0)\n",
      "Requirement already satisfied: pydantic-core==2.33.2 in c:\\users\\hp\\desktop\\aykay\\.venv\\lib\\site-packages (from pydantic>=2.7.4->langchain-core<1.0.0,>=0.3.65->langchain_huggingface) (2.33.2)\n",
      "Requirement already satisfied: typing-inspection>=0.4.0 in c:\\users\\hp\\desktop\\aykay\\.venv\\lib\\site-packages (from pydantic>=2.7.4->langchain-core<1.0.0,>=0.3.65->langchain_huggingface) (0.4.1)\n",
      "Requirement already satisfied: charset_normalizer<4,>=2 in c:\\users\\hp\\desktop\\aykay\\.venv\\lib\\site-packages (from requests->huggingface-hub>=0.30.2->langchain_huggingface) (3.4.2)\n",
      "Requirement already satisfied: urllib3<3,>=1.21.1 in c:\\users\\hp\\desktop\\aykay\\.venv\\lib\\site-packages (from requests->huggingface-hub>=0.30.2->langchain_huggingface) (2.5.0)\n",
      "Requirement already satisfied: colorama in c:\\users\\hp\\desktop\\aykay\\.venv\\lib\\site-packages (from tqdm>=4.42.1->huggingface-hub>=0.30.2->langchain_huggingface) (0.4.6)\n",
      "Requirement already satisfied: sniffio>=1.1 in c:\\users\\hp\\desktop\\aykay\\.venv\\lib\\site-packages (from anyio->httpx<1,>=0.23.0->langsmith>=0.3.45->langchain-core<1.0.0,>=0.3.65->langchain_huggingface) (1.3.1)\n"
     ]
    }
   ],
   "execution_count": 46
  },
  {
   "metadata": {},
   "cell_type": "markdown",
   "source": "Imports needed modules",
   "id": "c09e8b50d05a256b"
  },
  {
   "metadata": {
    "ExecuteTime": {
     "end_time": "2025-07-17T08:41:09.796956Z",
     "start_time": "2025-07-17T08:41:09.792692Z"
    }
   },
   "cell_type": "code",
   "source": [
    "from langchain_huggingface import HuggingFaceEmbeddings\n",
    "import re\n",
    "import faiss\n",
    "from langchain_community.docstore.in_memory import InMemoryDocstore\n",
    "from langchain_community.vectorstores import FAISS\n",
    "from uuid import uuid4\n",
    "from langchain_core.documents import Document\n",
    "import streamlit as st\n"
   ],
   "id": "bf5e70cef862ac90",
   "outputs": [],
   "execution_count": 47
  },
  {
   "metadata": {
    "ExecuteTime": {
     "end_time": "2025-07-17T08:41:09.886145Z",
     "start_time": "2025-07-17T08:41:09.812993Z"
    }
   },
   "cell_type": "code",
   "source": [
    "from transformers import AutoModelForCausalLM, AutoTokenizer\n",
    "import torch\n",
    "from langchain_community.llms import HuggingFacePipeline\n",
    "from transformers import pipeline\n",
    "from langchain.prompts import PromptTemplate\n",
    "from langchain.chains import RetrievalQA\n"
   ],
   "id": "11f371f85b7ae7bb",
   "outputs": [],
   "execution_count": 48
  },
  {
   "metadata": {},
   "cell_type": "markdown",
   "source": "Generate model",
   "id": "964bd226a41164ac"
  },
  {
   "metadata": {
    "ExecuteTime": {
     "end_time": "2025-07-17T08:41:13.349701Z",
     "start_time": "2025-07-17T08:41:09.898592Z"
    }
   },
   "cell_type": "code",
   "source": [
    "model_name = \"sentence-transformers/all-MiniLM-L6-v2\"\n",
    "\n",
    "embeddings = HuggingFaceEmbeddings(model_name=model_name)"
   ],
   "id": "d4563e82a11e2895",
   "outputs": [],
   "execution_count": 49
  },
  {
   "metadata": {},
   "cell_type": "markdown",
   "source": "Generate Faiss Vector store",
   "id": "68babd4f440bf75a"
  },
  {
   "metadata": {
    "ExecuteTime": {
     "end_time": "2025-07-17T08:41:13.403623Z",
     "start_time": "2025-07-17T08:41:13.367416Z"
    }
   },
   "cell_type": "code",
   "source": [
    "index = faiss.IndexFlatL2(len(embeddings.embed_query(\"hello world\")))\n",
    "\n",
    "vector_store = FAISS(\n",
    "    embedding_function=embeddings,\n",
    "    index=index,\n",
    "    docstore=InMemoryDocstore(),\n",
    "    index_to_docstore_id={},\n",
    ")"
   ],
   "id": "9ba5de1ac00edb21",
   "outputs": [],
   "execution_count": 50
  },
  {
   "metadata": {},
   "cell_type": "markdown",
   "source": "Opens the text file and cleans up the data",
   "id": "249eca4351605c9e"
  },
  {
   "metadata": {
    "ExecuteTime": {
     "end_time": "2025-07-17T08:41:13.419423Z",
     "start_time": "2025-07-17T08:41:13.413629Z"
    }
   },
   "cell_type": "code",
   "source": [
    "with open(\"blogs/blog 2.txt\", \"r\", encoding=\"utf-8\") as file:\n",
    "    text = file.read()\n",
    "\n",
    "sentences=[s.strip() + '.' for s in re.split(r'\\.\\s*', text) if s]\n",
    "\n",
    "chunks = []\n",
    "current_chunk = []\n",
    "current_word_count = 0\n",
    "for sentence in sentences:\n",
    "       word_count = len(sentence.split())\n",
    "       if current_word_count + word_count <= 50:\n",
    "           current_chunk.append(sentence)\n",
    "           current_word_count += word_count\n",
    "       else:\n",
    "           # Commit current chunk and start a new one\n",
    "           chunks.append(' '.join(current_chunk))\n",
    "           current_chunk = [sentence]\n",
    "           current_word_count = word_count\n",
    "\n",
    "if current_chunk:\n",
    "    chunks.append(' '.join(current_chunk))"
   ],
   "id": "d25d0199fefd3f43",
   "outputs": [],
   "execution_count": 51
  },
  {
   "metadata": {},
   "cell_type": "markdown",
   "source": "Displays cleaned up data for testing",
   "id": "a0dcd4b44a0564ba"
  },
  {
   "metadata": {
    "ExecuteTime": {
     "end_time": "2025-07-17T08:41:13.444929Z",
     "start_time": "2025-07-17T08:41:13.438031Z"
    }
   },
   "cell_type": "code",
   "source": [
    "for i, chunk in enumerate(chunks, 1):\n",
    "    print(f\"--- Chunk {i} ---\\n{chunk}\\n\")"
   ],
   "id": "721fe6da6ca8fcdf",
   "outputs": [
    {
     "name": "stdout",
     "output_type": "stream",
     "text": [
      "--- Chunk 1 ---\n",
      "Cars have long been woven into the fabric of everyday life. From their humble beginnings in the 19th century to their high-tech incarnations today, they have revolutionized transportation, reshaped cities, and transformed global economies.\n",
      "\n",
      "--- Chunk 2 ---\n",
      "What began as a novelty for the wealthy has evolved into an essential part of daily existence for billions around the world. Cars are no longer just machines; they are symbols of freedom, personal style, and technological progress. The story of the car begins with experimentation.\n",
      "\n",
      "--- Chunk 3 ---\n",
      "In the late 1800s, inventors like Karl Benz and Gottlieb Daimler crafted the first practical gasoline-powered vehicles. Karl Benz’s 1886 Patent-Motorwagen is often credited as the birth of the modern automobile.\n",
      "\n",
      "--- Chunk 4 ---\n",
      "These early machines were rudimentary, noisy, and difficult to operate, but they laid the foundation for a seismic shift in human mobility. As technology improved, so did public interest and accessibility. By the early 20th century, the automobile underwent its first major transformation.\n",
      "\n",
      "--- Chunk 5 ---\n",
      "In 1908, Henry Ford introduced the Model T and later revolutionized its production using the moving assembly line. This innovation drastically reduced manufacturing costs and made car ownership a reality for the average American. For the first time, people could travel farther and faster than ever before.\n",
      "\n",
      "--- Chunk 6 ---\n",
      "Cities expanded, suburbs were born, and the very way we organized our lives began to change. Over the decades, cars diversified in purpose and design. No longer limited to a single style or utility, the automotive world began catering to a broad array of needs and tastes.\n",
      "\n",
      "--- Chunk 7 ---\n",
      "Compact sedans offered efficiency and practicality for commuters. Large SUVs became ideal for families and those craving space and versatility. Pickup trucks evolved into both workhorses and luxury status symbols. Sports cars attracted those who craved speed and sleek aesthetics, while hybrids and electric vehicles appealed to environmentally conscious drivers.\n",
      "\n",
      "--- Chunk 8 ---\n",
      "The emergence of electric vehicles marks one of the most significant shifts in automotive history. While electric cars have existed in various forms since the early 20th century, they gained serious momentum in the 21st century thanks to advances in battery technology, performance, and infrastructure.\n",
      "\n",
      "--- Chunk 9 ---\n",
      "Companies like Tesla challenged traditional manufacturers and proved that EVs could be fast, luxurious, and sustainable. As environmental concerns grow, many governments and automakers are committing to a future that will phase out internal combustion engines altogether.\n",
      "\n",
      "--- Chunk 10 ---\n",
      "Technology has reshaped not just how cars are powered, but how they are experienced. Modern vehicles are equipped with features that were once the stuff of science fiction. Touchscreens, voice assistants, autonomous driving features, and over-the-air software updates have turned cars into mobile computers.\n",
      "\n",
      "--- Chunk 11 ---\n",
      "Connectivity is now a baseline expectation, enabling real-time navigation, traffic updates, diagnostics, and seamless integration with smartphones and apps. Autonomous driving is another frontier rapidly gaining ground. Although fully self-driving cars are still in testing phases, semi-autonomous systems like adaptive cruise control, lane keeping, and automated parking are becoming standard.\n",
      "\n",
      "--- Chunk 12 ---\n",
      "These technologies promise a future where driving could become safer and less stressful, especially in dense urban environments or long highway commutes. However, they also raise important questions about ethics, liability, and job displacement in sectors like trucking and ride-hailing.\n",
      "\n",
      "--- Chunk 13 ---\n",
      "As much as cars are machines, they are also cultural icons. Throughout the 20th century, the car became a symbol of personal freedom and identity, especially in countries like the United States. Movies, music, and advertising glorified the car as more than transportation—it was a lifestyle.\n",
      "\n",
      "--- Chunk 14 ---\n",
      "Teenagers dreamed of their first set of keys, car clubs formed communities around makes and models, and countless road trips became rites of passage. Even the aesthetics of cars reflected social values, from the flamboyant fins of the 1950s to the eco-conscious designs of today.\n",
      "\n",
      "--- Chunk 15 ---\n",
      "Car culture is not limited to any one country. In Japan, the tuning and drifting scenes have birthed global subcultures. In Germany, the Autobahn represents a commitment to speed and precision engineering.\n",
      "\n",
      "--- Chunk 16 ---\n",
      "Italy’s history of luxury sports cars reflects a blend of art and performance, while Scandinavian countries lead the way in electric adoption and sustainable design. Cars, in all their forms, speak to national character and values. Despite their many benefits, cars also bring significant challenges.\n",
      "\n",
      "--- Chunk 17 ---\n",
      "Congestion, pollution, and accidents are all issues that have grown with the rise of the automobile. Urban planners are now grappling with how to integrate cars into cities that were never designed to accommodate them.\n",
      "\n",
      "--- Chunk 18 ---\n",
      "Many are pushing for fewer personal vehicles on the road and more investment in public transit, cycling infrastructure, and walkable communities. The environmental impact of cars, particularly those powered by fossil fuels, is one of the most pressing concerns. Transportation accounts for a large percentage of greenhouse gas emissions globally.\n",
      "\n",
      "--- Chunk 19 ---\n",
      "The push toward electric vehicles and renewable energy sources is one solution, but it also requires significant infrastructure upgrades, such as charging stations and clean energy production. Looking to the future, the automotive world is moving toward a model that emphasizes mobility rather than ownership.\n",
      "\n",
      "--- Chunk 20 ---\n",
      "Subscription-based services, car-sharing apps, and ride-hailing platforms are challenging the notion that everyone needs to own a car. As urban populations grow and younger generations prioritize convenience and sustainability, this shift is likely to accelerate. Automakers are already adapting, offering flexible ownership models and focusing more on software and services.\n",
      "\n",
      "--- Chunk 21 ---\n",
      "Yet for all the change, one thing remains the same: cars continue to captivate and empower us. They give us access to jobs, education, leisure, and one another. They reflect who we are and where we’re going.\n",
      "\n",
      "--- Chunk 22 ---\n",
      "The road ahead will look different—quieter, cleaner, and perhaps more automated—but the core human desire to move freely and explore will remain at the heart of every drive. From cobbled roads and horseless carriages to smart highways and AI-driven fleets, the journey of the car is far from over.\n",
      "\n",
      "--- Chunk 23 ---\n",
      "It’s a story still being written, every time someone starts their engine or plugs in to charge. Whether you see them as tools, toys, or treasures, cars remain one of the most transformative inventions in human history—and their evolution is only just beginning.\n",
      "\n"
     ]
    }
   ],
   "execution_count": 52
  },
  {
   "metadata": {},
   "cell_type": "markdown",
   "source": "Converts the list into a Dictionary",
   "id": "5d5c70f718ddc053"
  },
  {
   "metadata": {
    "ExecuteTime": {
     "end_time": "2025-07-17T08:41:13.478965Z",
     "start_time": "2025-07-17T08:41:13.475836Z"
    }
   },
   "cell_type": "code",
   "source": [
    "documents = [None] * len(chunks)  # Create an empty list of the correct size\n",
    "\n",
    "for i in range(len(chunks)):\n",
    "   documents[i] = Document(page_content=chunks[i])\n"
   ],
   "id": "5cbe0143fbaa5c43",
   "outputs": [],
   "execution_count": 53
  },
  {
   "metadata": {},
   "cell_type": "markdown",
   "source": "Adds the dictionaries to vector store",
   "id": "a8f1c2b7a8e918d1"
  },
  {
   "metadata": {
    "ExecuteTime": {
     "end_time": "2025-07-17T08:41:13.636292Z",
     "start_time": "2025-07-17T08:41:13.500939Z"
    }
   },
   "cell_type": "code",
   "source": [
    "uuids = [str(uuid4()) for _ in range(len(documents))]\n",
    "\n",
    "vector_store.add_documents(documents=documents, ids=uuids)"
   ],
   "id": "a37af3a1f6a2a54",
   "outputs": [
    {
     "data": {
      "text/plain": [
       "['4c6e1f07-1fbe-4f65-b1a1-db2b5e779749',\n",
       " 'ab746b08-aa2c-41b2-8c05-cd4017c0a16e',\n",
       " 'bedbb68c-9403-4b09-8ac6-31a17dde0be6',\n",
       " 'ccd79968-d777-4c0f-b1a8-f3c82f3d4007',\n",
       " '3b78b6aa-8c86-443b-884a-06edaa1f682f',\n",
       " 'f98ee3f5-321c-41ca-bd77-85fd9f8ed23c',\n",
       " 'f5d0d563-146a-413d-a624-2abf037edd48',\n",
       " '1236b15a-6976-4dbf-971e-afec625c7c76',\n",
       " '8d407e57-d51e-4624-8e73-78aa94908f42',\n",
       " '279f4ec8-40d9-4d1d-a5a8-f1dfb243f58f',\n",
       " 'fbcc6daf-dc75-4404-b504-0dbfacff4cc6',\n",
       " '7364b9fe-58f7-4c54-bf02-14fa4e3e1378',\n",
       " '21a69293-2283-4fe6-bfd8-6dd0b656a3da',\n",
       " '3dd59609-513d-4eb2-afc0-aa5890b31e3d',\n",
       " '4a50eb1e-6bd0-4c3b-9b9b-9c831b8c311e',\n",
       " '63b7d695-9a76-4700-a412-10786b59a3ea',\n",
       " 'e058fbfa-6977-4953-a7ed-56e241aa5c92',\n",
       " 'cc1015f7-3d75-4b9f-9651-9e9401fb2c12',\n",
       " 'f446d65a-5033-4756-95d1-2324d5533422',\n",
       " '199f462e-da7a-4d95-a647-1d4ceb1764c6',\n",
       " '081dca60-b8fd-4002-bd32-9bf7c4d33731',\n",
       " '1db19ab7-de26-4d2f-910d-1012a3e32bde',\n",
       " 'bbf9b6d4-1007-425c-a1ae-2f4319052bd0']"
      ]
     },
     "execution_count": 54,
     "metadata": {},
     "output_type": "execute_result"
    }
   ],
   "execution_count": 54
  },
  {
   "metadata": {},
   "cell_type": "markdown",
   "source": "Saves the vector store",
   "id": "36d7384649a80a7d"
  },
  {
   "metadata": {
    "ExecuteTime": {
     "end_time": "2025-07-17T08:41:13.673699Z",
     "start_time": "2025-07-17T08:41:13.670152Z"
    }
   },
   "cell_type": "code",
   "source": "vector_store.save_local(\"faiss_index_dir\")",
   "id": "cf88815e1a269a79",
   "outputs": [],
   "execution_count": 55
  },
  {
   "metadata": {},
   "cell_type": "markdown",
   "source": "Loads the vector store",
   "id": "c4012605a6c0569e"
  },
  {
   "metadata": {
    "ExecuteTime": {
     "end_time": "2025-07-17T08:41:13.712905Z",
     "start_time": "2025-07-17T08:41:13.693898Z"
    }
   },
   "cell_type": "code",
   "source": [
    "loaded_vector_store = FAISS.load_local(\n",
    "    \"faiss_index_dir\",\n",
    "    embeddings,  allow_dangerous_deserialization=True\n",
    ")"
   ],
   "id": "ba086cd50ce06958",
   "outputs": [],
   "execution_count": 56
  },
  {
   "metadata": {
    "ExecuteTime": {
     "end_time": "2025-07-17T08:41:13.726411Z",
     "start_time": "2025-07-17T08:41:13.723931Z"
    }
   },
   "cell_type": "code",
   "source": "retriever = loaded_vector_store.as_retriever(search_type=\"mmr\", search_kwargs={\"k\": 2})",
   "id": "de26418b0b9f557d",
   "outputs": [],
   "execution_count": 57
  },
  {
   "metadata": {
    "ExecuteTime": {
     "end_time": "2025-07-17T08:41:13.742432Z",
     "start_time": "2025-07-17T08:41:13.739443Z"
    }
   },
   "cell_type": "code",
   "source": [
    "template=\"\"\"You are a helpful assistant. Use the context below to answer the user's question.\n",
    "Context:\n",
    "{context}\n",
    "\n",
    "Question:\n",
    "{question}\n",
    "\n",
    "Answer:\"\"\""
   ],
   "id": "bc3f84c4862ea6bb",
   "outputs": [],
   "execution_count": 58
  },
  {
   "metadata": {
    "ExecuteTime": {
     "end_time": "2025-07-17T08:49:20.507519Z",
     "start_time": "2025-07-17T08:49:18.430797Z"
    }
   },
   "cell_type": "code",
   "source": [
    "model_version = \"gpt2\"\n",
    "tokenizer = AutoTokenizer.from_pretrained(model_version)\n",
    "model = AutoModelForCausalLM.from_pretrained(model_version)\n",
    "\n",
    "# Create a Hugging Face pipeline for text generation\n",
    "pipe = pipeline(\n",
    "    \"text-generation\",\n",
    "    model=model,\n",
    "    tokenizer=tokenizer,\n",
    "    max_new_tokens=256,\n",
    "    temperature=0.7\n",
    ")\n",
    "# Wrap the pipeline for LangChain compatibility\n",
    "llm = HuggingFacePipeline(pipeline=pipe)\n",
    "# Define the Prompt Template\n",
    "template = \"\"\"You are a helpful assistant. Use the context below to answer the user's question.\n",
    "\n",
    "Context:\n",
    "{context}\n",
    "\n",
    "Question:\n",
    "{question}\n",
    "\n",
    "Answer:\"\"\"\n",
    "\n",
    "prompt = PromptTemplate(template=template, input_variables=[\"context\", \"question\"])\n",
    "# Define the RAG Chain\n",
    "rag_chain = RetrievalQA.from_chain_type(\n",
    "    llm=llm,\n",
    "    retriever=retriever,\n",
    "    chain_type_kwargs={\"prompt\": prompt},\n",
    "    return_source_documents=True\n",
    ")"
   ],
   "id": "767d6f90b4e999a5",
   "outputs": [
    {
     "name": "stderr",
     "output_type": "stream",
     "text": [
      "Device set to use cpu\n"
     ]
    }
   ],
   "execution_count": 63
  },
  {
   "metadata": {},
   "cell_type": "markdown",
   "source": "Function to get answers",
   "id": "f43c75b91e4c7b07"
  },
  {
   "metadata": {
    "ExecuteTime": {
     "end_time": "2025-07-17T08:49:23.771920Z",
     "start_time": "2025-07-17T08:49:23.766115Z"
    }
   },
   "cell_type": "code",
   "source": [
    "def get_answer(question):\n",
    "    result = rag_chain({\"query\": question})\n",
    "    # Extract the generated answer\n",
    "    return result[\"result\"].split(\"Answer:\")[1].strip()"
   ],
   "id": "7f35310a0440ee3f",
   "outputs": [],
   "execution_count": 64
  },
  {
   "metadata": {},
   "cell_type": "markdown",
   "source": "Langchain integration",
   "id": "812354a73803b297"
  },
  {
   "metadata": {
    "ExecuteTime": {
     "end_time": "2025-07-17T08:49:27.215035Z",
     "start_time": "2025-07-17T08:49:27.195868Z"
    }
   },
   "cell_type": "code",
   "source": [
    "st.set_page_config(page_title=\"Knowledge Chatbot\")\n",
    "\n",
    "st.title(\"📚 Your Personal Knowledge Chatbot\")\n",
    "\n",
    "if \"history\" not in st.session_state:\n",
    "    st.session_state.history = []\n",
    "\n",
    "\n",
    "query = st.text_input(\"Ask something from your content:\")\n",
    "if query.strip():\n",
    "    response = get_answer(query)\n",
    "    st.session_state.history.append((query, response))\n",
    "\n",
    "for q, r in reversed(st.session_state.history):\n",
    "    st.markdown(f\"**You:** {q}\")\n",
    "    st.markdown(f\"**Bot:** {r}\")"
   ],
   "id": "c4f7cd831a8ee81a",
   "outputs": [
    {
     "name": "stderr",
     "output_type": "stream",
     "text": [
      "2025-07-17 13:49:27.197 Thread 'MainThread': missing ScriptRunContext! This warning can be ignored when running in bare mode.\n",
      "2025-07-17 13:49:27.198 Thread 'MainThread': missing ScriptRunContext! This warning can be ignored when running in bare mode.\n",
      "2025-07-17 13:49:27.198 Thread 'MainThread': missing ScriptRunContext! This warning can be ignored when running in bare mode.\n",
      "2025-07-17 13:49:27.199 Thread 'MainThread': missing ScriptRunContext! This warning can be ignored when running in bare mode.\n",
      "2025-07-17 13:49:27.199 Thread 'MainThread': missing ScriptRunContext! This warning can be ignored when running in bare mode.\n",
      "2025-07-17 13:49:27.200 Thread 'MainThread': missing ScriptRunContext! This warning can be ignored when running in bare mode.\n",
      "2025-07-17 13:49:27.204 Thread 'MainThread': missing ScriptRunContext! This warning can be ignored when running in bare mode.\n",
      "2025-07-17 13:49:27.205 Thread 'MainThread': missing ScriptRunContext! This warning can be ignored when running in bare mode.\n",
      "2025-07-17 13:49:27.207 Thread 'MainThread': missing ScriptRunContext! This warning can be ignored when running in bare mode.\n",
      "2025-07-17 13:49:27.208 Thread 'MainThread': missing ScriptRunContext! This warning can be ignored when running in bare mode.\n",
      "2025-07-17 13:49:27.208 Thread 'MainThread': missing ScriptRunContext! This warning can be ignored when running in bare mode.\n",
      "2025-07-17 13:49:27.210 Thread 'MainThread': missing ScriptRunContext! This warning can be ignored when running in bare mode.\n",
      "2025-07-17 13:49:27.211 Thread 'MainThread': missing ScriptRunContext! This warning can be ignored when running in bare mode.\n"
     ]
    }
   ],
   "execution_count": 65
  },
  {
   "metadata": {},
   "cell_type": "code",
   "outputs": [],
   "execution_count": null,
   "source": "",
   "id": "85679320f9d658dc"
  }
 ],
 "metadata": {
  "kernelspec": {
   "display_name": "Python 3",
   "language": "python",
   "name": "python3"
  },
  "language_info": {
   "codemirror_mode": {
    "name": "ipython",
    "version": 2
   },
   "file_extension": ".py",
   "mimetype": "text/x-python",
   "name": "python",
   "nbconvert_exporter": "python",
   "pygments_lexer": "ipython2",
   "version": "2.7.6"
  }
 },
 "nbformat": 4,
 "nbformat_minor": 5
}
